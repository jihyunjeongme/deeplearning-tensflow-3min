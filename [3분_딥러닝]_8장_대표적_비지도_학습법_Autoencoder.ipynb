{
  "nbformat": 4,
  "nbformat_minor": 0,
  "metadata": {
    "colab": {
      "name": "[3분 딥러닝] 8장 -대표적 비지도 학습법 Autoencoder.ipynb",
      "version": "0.3.2",
      "provenance": [],
      "collapsed_sections": [],
      "include_colab_link": true
    },
    "kernelspec": {
      "name": "python3",
      "display_name": "Python 3"
    },
    "accelerator": "GPU"
  },
  "cells": [
    {
      "cell_type": "markdown",
      "metadata": {
        "id": "view-in-github",
        "colab_type": "text"
      },
      "source": [
        "<a href=\"https://colab.research.google.com/github/jihyunjeongme/deeplearning-tensflow-3min/blob/master/%5B3%EB%B6%84_%EB%94%A5%EB%9F%AC%EB%8B%9D%5D_8%EC%9E%A5_%EB%8C%80%ED%91%9C%EC%A0%81_%EB%B9%84%EC%A7%80%EB%8F%84_%ED%95%99%EC%8A%B5%EB%B2%95_Autoencoder.ipynb\" target=\"_parent\"><img src=\"https://colab.research.google.com/assets/colab-badge.svg\" alt=\"Open In Colab\"/></a>"
      ]
    },
    {
      "cell_type": "markdown",
      "metadata": {
        "id": "OmzepQivnjAt",
        "colab_type": "text"
      },
      "source": [
        "# 8.1 오토인코더 개념\n",
        "\n",
        "---\n",
        "\n",
        "- 입력값과 출력값을 같게 하는 신경망\n",
        "- 가운데 계층의 노드 수가 입력값보다 적은 것이 독특한 점\n",
        "- 입력데이터를 압축하는 효과를 얻게 되고, 이 과정이 노이즈 제거에 매우 효과적이라고 알려져 있음.\n",
        "\n",
        "#핵심\n",
        "- 입력층으로 들어온 데이터를 인코더를 통해 은닉층으로 내보내고, 은닉층의 데이터를 디코더를 통해 출력층으로 내보낸 뒤, 만들어진 출력값을 입력값과 비슷해지도록 만드는 가중치를 찾아내는 것.\n",
        "\n",
        "# 종류\n",
        "- 변이형 오토인코더\n",
        "- 잡음제거 오토인코더"
      ]
    },
    {
      "cell_type": "markdown",
      "metadata": {
        "id": "2rHAycX2plxD",
        "colab_type": "text"
      },
      "source": [
        "# 8.2 오토인코더 구현하기"
      ]
    },
    {
      "cell_type": "code",
      "metadata": {
        "id": "qeZxWxLLpjSC",
        "colab_type": "code",
        "colab": {
          "base_uri": "https://localhost:8080/",
          "height": 411
        },
        "outputId": "fda4dd1c-1c94-4b5b-a7b6-c0bc507776d9"
      },
      "source": [
        "import tensorflow as tf\n",
        "import numpy as np\n",
        "import matplotlib.pyplot as plt\n",
        "\n",
        "from tensorflow.examples.tutorials.mnist import input_data\n",
        "mnist = input_data.read_data_sets(\"./mnist/data/\", one_hot=True)"
      ],
      "execution_count": 2,
      "outputs": [
        {
          "output_type": "stream",
          "text": [
            "WARNING:tensorflow:From <ipython-input-2-35b75f963996>:6: read_data_sets (from tensorflow.contrib.learn.python.learn.datasets.mnist) is deprecated and will be removed in a future version.\n",
            "Instructions for updating:\n",
            "Please use alternatives such as official/mnist/dataset.py from tensorflow/models.\n",
            "WARNING:tensorflow:From /usr/local/lib/python3.6/dist-packages/tensorflow/contrib/learn/python/learn/datasets/mnist.py:260: maybe_download (from tensorflow.contrib.learn.python.learn.datasets.base) is deprecated and will be removed in a future version.\n",
            "Instructions for updating:\n",
            "Please write your own downloading logic.\n",
            "WARNING:tensorflow:From /usr/local/lib/python3.6/dist-packages/tensorflow/contrib/learn/python/learn/datasets/mnist.py:262: extract_images (from tensorflow.contrib.learn.python.learn.datasets.mnist) is deprecated and will be removed in a future version.\n",
            "Instructions for updating:\n",
            "Please use tf.data to implement this functionality.\n",
            "Extracting ./mnist/data/train-images-idx3-ubyte.gz\n",
            "WARNING:tensorflow:From /usr/local/lib/python3.6/dist-packages/tensorflow/contrib/learn/python/learn/datasets/mnist.py:267: extract_labels (from tensorflow.contrib.learn.python.learn.datasets.mnist) is deprecated and will be removed in a future version.\n",
            "Instructions for updating:\n",
            "Please use tf.data to implement this functionality.\n",
            "Extracting ./mnist/data/train-labels-idx1-ubyte.gz\n",
            "WARNING:tensorflow:From /usr/local/lib/python3.6/dist-packages/tensorflow/contrib/learn/python/learn/datasets/mnist.py:110: dense_to_one_hot (from tensorflow.contrib.learn.python.learn.datasets.mnist) is deprecated and will be removed in a future version.\n",
            "Instructions for updating:\n",
            "Please use tf.one_hot on tensors.\n",
            "Extracting ./mnist/data/t10k-images-idx3-ubyte.gz\n",
            "Extracting ./mnist/data/t10k-labels-idx1-ubyte.gz\n",
            "WARNING:tensorflow:From /usr/local/lib/python3.6/dist-packages/tensorflow/contrib/learn/python/learn/datasets/mnist.py:290: DataSet.__init__ (from tensorflow.contrib.learn.python.learn.datasets.mnist) is deprecated and will be removed in a future version.\n",
            "Instructions for updating:\n",
            "Please use alternatives such as official/mnist/dataset.py from tensorflow/models.\n"
          ],
          "name": "stdout"
        }
      ]
    },
    {
      "cell_type": "code",
      "metadata": {
        "id": "iTbKl29Epw9p",
        "colab_type": "code",
        "colab": {}
      },
      "source": [
        "# 하이파라미터로 사용할 옵션들을 따로 뺴내어 코드를 구조화\n",
        "\n",
        "learning_rate = 0.01\n",
        "training_epoch = 20\n",
        "batch_size = 100\n",
        "n_hidden = 256\n",
        "n_input = 28*28"
      ],
      "execution_count": 0,
      "outputs": []
    },
    {
      "cell_type": "code",
      "metadata": {
        "id": "T2FyhoCVqWya",
        "colab_type": "code",
        "colab": {}
      },
      "source": [
        "# learning_rate: 최적화 함수에서 사용할 학습률\n",
        "# training_epoch: 전체 데이터를 학습할 총 횟수\n",
        "# batch_size: 미니배치로 한번에 학습할 데이터(이미지)의 개수\n",
        "# n_hidden: 은닉층의 뉴런 개수\n",
        "# n_input: 입력값의 크기(우리가 사용할 MNIST의 이미지 크기가 28X28이므로 784)\n",
        "\n"
      ],
      "execution_count": 0,
      "outputs": []
    },
    {
      "cell_type": "code",
      "metadata": {
        "id": "-eAlMJ7xq-BL",
        "colab_type": "code",
        "colab": {}
      },
      "source": [
        "# 신경망 모델 구성\n",
        "# X의 플레이스 홀더 설정. 이 모델은 비지도 학습이므로 Y 값이 없습니다.\n",
        "\n",
        "X = tf.placeholder(tf.float32, [None, n_input])"
      ],
      "execution_count": 0,
      "outputs": []
    },
    {
      "cell_type": "code",
      "metadata": {
        "id": "8tPM-a-erM5C",
        "colab_type": "code",
        "colab": {
          "base_uri": "https://localhost:8080/",
          "height": 88
        },
        "outputId": "7f5a09b5-28bf-46d1-a700-b8990957c445"
      },
      "source": [
        "# 오토인코더의 핵심 모델: 인코더와 디코더를 만드는 것\n",
        "# 인코더와 디코더를 만드는 방식에 따라 다양한 오토인코더를 만들 수 있습니다.\n",
        "\n",
        "W_encode = tf.Variable(tf.random_normal([n_input, n_hidden]))\n",
        "b_encode = tf.Variable(tf.random_normal([n_hidden]))\n",
        "\n",
        "encoder = tf.nn.sigmoid(\n",
        "              tf.add(tf.matmul(X, W_encode), b_encode))"
      ],
      "execution_count": 7,
      "outputs": [
        {
          "output_type": "stream",
          "text": [
            "WARNING:tensorflow:From /usr/local/lib/python3.6/dist-packages/tensorflow/python/framework/op_def_library.py:263: colocate_with (from tensorflow.python.framework.ops) is deprecated and will be removed in a future version.\n",
            "Instructions for updating:\n",
            "Colocations handled automatically by placer.\n"
          ],
          "name": "stdout"
        }
      ]
    },
    {
      "cell_type": "code",
      "metadata": {
        "id": "TfJhzfGTrvdP",
        "colab_type": "code",
        "colab": {}
      },
      "source": [
        "# 처음에는 n_hidden개의 뉴런을 가진 은닉층을 만듭니다.\n",
        "# 가중치와 편향 변수를 원하는 뉴런의 개수만큼 설정하고, 그 변수들을 입력값과 곱하고 더한 뒤\n",
        "# 활성화 함수 sigmoid 함수를 적용\n",
        "\n",
        "# 중요한것은 입력값인 n_input 값보다 n_hidden 값이 더 작다는 점\n",
        "# (물론 은닉층이 더 큰 오토인코더 모델도 있습니다.)\n",
        "# 이렇게 하면 입력값을 압축하고 노이즈를 제거하면서 입력값의 특징을 찾아내게 됨"
      ],
      "execution_count": 0,
      "outputs": []
    },
    {
      "cell_type": "code",
      "metadata": {
        "id": "f4PvQvPJtOLo",
        "colab_type": "code",
        "colab": {}
      },
      "source": [
        "# 디코더\n",
        "\n",
        "W_decode = tf.Variable(tf.random_normal([n_hidden, n_input]))\n",
        "b_decode = tf.Variable(tf.random_normal([n_input]))\n",
        "decoder = tf.nn.sigmoid(\n",
        "                 tf.add(tf.matmul(encoder, W_decode), b_decode))"
      ],
      "execution_count": 0,
      "outputs": []
    },
    {
      "cell_type": "code",
      "metadata": {
        "id": "C9OK14sVtq4b",
        "colab_type": "code",
        "colab": {}
      },
      "source": [
        "# 디코더도 인코더와 같은 구성입니다.\n",
        "# 다만, 입력값을 은닉층의 크기고, 출력값을 입력층의 크기로 만들었습니다."
      ],
      "execution_count": 0,
      "outputs": []
    },
    {
      "cell_type": "code",
      "metadata": {
        "id": "22qxX5yOt1VD",
        "colab_type": "code",
        "colab": {}
      },
      "source": [
        "# 가중치들을 최적화하기 위한 손실 함수를 만들어 봅시다.\n",
        "# 우리가 만드는 기본적인 오코인코더의 목적은 출력값을 입력값과 가장 비슷하게 만드는 것\n",
        "# 압축된 은닉층의 뉴런들을 통해 입력값의 특징을 알아낼 수 있음.\n",
        "\n",
        "# 따라서 다음과 같이 입력값인 X를 평가하기 위한 실측값으로 사용하고,\n",
        "# 디코더가 내보낸 결괏값과의 차이를 손실값으로 설정\n",
        "# 이 값의 차이는 거리 함수로 구함\n",
        "\n",
        "cost = tf.reduce_mean(tf.pow(X - decoder, 2))"
      ],
      "execution_count": 0,
      "outputs": []
    },
    {
      "cell_type": "code",
      "metadata": {
        "id": "VWt7JqzJu1lY",
        "colab_type": "code",
        "colab": {}
      },
      "source": [
        "# 마지막으로 RMSPropOptimizer 함수를 이용한 최적화 함수를 설정\n",
        "\n",
        "optimizer = tf.train.RMSPropOptimizer(learning_rate).minimize(cost)"
      ],
      "execution_count": 0,
      "outputs": []
    },
    {
      "cell_type": "code",
      "metadata": {
        "id": "rYpj-qlTvHZF",
        "colab_type": "code",
        "colab": {
          "base_uri": "https://localhost:8080/",
          "height": 374
        },
        "outputId": "e0675f56-8b9d-4284-9b3e-8210be8eb261"
      },
      "source": [
        "# 이제 학습 시키고 결과를 확인 하는 코드 작성\n",
        "\n",
        "init = tf.global_variables_initializer()\n",
        "sess = tf.Session()\n",
        "sess.run(init)\n",
        "\n",
        "batch_size = 100\n",
        "total_batch = int(mnist.train.num_examples / batch_size)\n",
        "\n",
        "for epoch in range(training_epoch):\n",
        "  total_cost = 0\n",
        "  \n",
        "  for i in range(total_batch):\n",
        "    batch_xs, batch_ys = mnist.train.next_batch(batch_size)\n",
        "    \n",
        "    _, cost_val = sess.run([optimizer, cost],\n",
        "                            feed_dict={X: batch_xs})\n",
        "                                       \n",
        "    \n",
        "    total_cost += cost_val\n",
        "  \n",
        "  print('Epoch:', '%04d' % (epoch + 1),\n",
        "        'Avg. cost =', '{:.3f}'.format(total_cost / total_batch))\n",
        "\n",
        "print('최적화 완료!')"
      ],
      "execution_count": 13,
      "outputs": [
        {
          "output_type": "stream",
          "text": [
            "Epoch: 0001 Avg. cost = 0.198\n",
            "Epoch: 0002 Avg. cost = 0.055\n",
            "Epoch: 0003 Avg. cost = 0.046\n",
            "Epoch: 0004 Avg. cost = 0.041\n",
            "Epoch: 0005 Avg. cost = 0.038\n",
            "Epoch: 0006 Avg. cost = 0.036\n",
            "Epoch: 0007 Avg. cost = 0.034\n",
            "Epoch: 0008 Avg. cost = 0.034\n",
            "Epoch: 0009 Avg. cost = 0.033\n",
            "Epoch: 0010 Avg. cost = 0.033\n",
            "Epoch: 0011 Avg. cost = 0.032\n",
            "Epoch: 0012 Avg. cost = 0.032\n",
            "Epoch: 0013 Avg. cost = 0.032\n",
            "Epoch: 0014 Avg. cost = 0.031\n",
            "Epoch: 0015 Avg. cost = 0.031\n",
            "Epoch: 0016 Avg. cost = 0.030\n",
            "Epoch: 0017 Avg. cost = 0.029\n",
            "Epoch: 0018 Avg. cost = 0.029\n",
            "Epoch: 0019 Avg. cost = 0.029\n",
            "Epoch: 0020 Avg. cost = 0.028\n",
            "최적화 완료!\n"
          ],
          "name": "stdout"
        }
      ]
    },
    {
      "cell_type": "code",
      "metadata": {
        "id": "g74Oi6Czxsai",
        "colab_type": "code",
        "colab": {
          "base_uri": "https://localhost:8080/",
          "height": 158
        },
        "outputId": "a3a4d998-063a-4adc-823e-ee714eb72346"
      },
      "source": [
        "# 결괏값을 정확도가 아닌, 디코더로 생성해낸 결과를 직관적인 방법으로 확인\n",
        "# 여기서는 간단하게 matplotlib를 이용해 이미지로 출력\n",
        "\n",
        "# 먼저 총 10개의 테스트 데이터를 가져와 디코더를 이용해 출력값으로 만듭니다.\n",
        "sample_size = 10\n",
        "\n",
        "samples = sess.run(decoder,\n",
        "                   feed_dict={X: mnist.test.images[:sample_size]})\n",
        "\n",
        "# 그런 다음 numpy 모듈을 이용해 MNIST 데이터를 28 X 28 크기의 이미지 데이터로 재구성한 뒤,\n",
        "# matplotlib의 imshow 함수를 이용해 그래프에 이미지로 출력\n",
        "# 위쪽에는 입력값의 이미지\n",
        "# 아래쪽에는 신경망으로 생성한 이미지를 출력\n",
        "\n",
        "fig, ax = plt.subplots(2, sample_size, figsize=(sample_size, 2))\n",
        "\n",
        "for i in range(sample_size):\n",
        "  ax[0][i].set_axis_off()\n",
        "  ax[1][i].set_axis_off()\n",
        "  ax[0][i].imshow(np.reshape(mnist.test.images[i], (28, 28)))\n",
        "  ax[1][i].imshow(np.reshape(samples[i], (28, 28)))\n",
        "  \n",
        "plt.show()"
      ],
      "execution_count": 15,
      "outputs": [
        {
          "output_type": "display_data",
          "data": {
            "image/png": "[encoded data removed]",
            "text/plain": [
              "<Figure size 720x144 with 20 Axes>"
            ]
          },
          "metadata": {
            "tags": []
          }
        }
      ]
    },
    {
      "cell_type": "code",
      "metadata": {
        "id": "Kg_iMfrGy9Bn",
        "colab_type": "code",
        "colab": {}
      },
      "source": [
        ""
      ],
      "execution_count": 0,
      "outputs": []
    }
  ]
}