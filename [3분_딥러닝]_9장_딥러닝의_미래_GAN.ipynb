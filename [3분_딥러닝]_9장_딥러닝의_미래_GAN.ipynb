{
  "nbformat": 4,
  "nbformat_minor": 0,
  "metadata": {
    "colab": {
      "name": "[3분 딥러닝] 9장 - 딥러닝의 미래 GAN.ipynb",
      "version": "0.3.2",
      "provenance": [],
      "collapsed_sections": [],
      "include_colab_link": true
    },
    "kernelspec": {
      "name": "python3",
      "display_name": "Python 3"
    },
    "accelerator": "GPU"
  },
  "cells": [
    {
      "cell_type": "markdown",
      "metadata": {
        "id": "view-in-github",
        "colab_type": "text"
      },
      "source": [
        "<a href=\"https://colab.research.google.com/github/jihyunjeongme/deeplearning-tensflow-3min/blob/master/%5B3%EB%B6%84_%EB%94%A5%EB%9F%AC%EB%8B%9D%5D_9%EC%9E%A5_%EB%94%A5%EB%9F%AC%EB%8B%9D%EC%9D%98_%EB%AF%B8%EB%9E%98_GAN.ipynb\" target=\"_parent\"><img src=\"https://colab.research.google.com/assets/colab-badge.svg\" alt=\"Open In Colab\"/></a>"
      ]
    },
    {
      "cell_type": "markdown",
      "metadata": {
        "id": "gtnDwwtnfhZd",
        "colab_type": "text"
      },
      "source": [
        "# 딥러닝의 미래 GAN\n",
        "\n",
        "---\n",
        "\n",
        "2016년의 가장 뜨거운 감자였던 딥러닝 모델인 GAN(Generative Adversarial Network)은 오토인코더와 같이 결과물을 생성하는 생성 모델중 하나로, 서로 대립하는 두 신경망을 경쟁시켜가며 결과물을 생성 방법을 학습합니다.\n",
        "\n",
        "# 예시\n",
        "- 위조지폐범(생성자)과 경찰(구분자)에 대한 이야기\n",
        "- 고흐 풍 그림으로 다시 그려줌\n",
        "- 선으로만 그려진 만화를 자동으로 채색\n",
        "- 모잘이크를 없앤다거나 하는 등의 결과\n",
        "\n",
        "# 이번 장 목표\n",
        "------\n",
        "GAN 모형을 이용하여 MNIST 손글씨 숫자를 무작위로 생성하는 간단한 예제를 만들어 보고, 모델을 조금 확장하여 원하는 숫자에 해당하는 이미지를 생성하는 모델을 학습"
      ]
    },
    {
      "cell_type": "markdown",
      "metadata": {
        "id": "THqxsVU7ghXD",
        "colab_type": "text"
      },
      "source": [
        "# 9.1 GAN 기본 모델 구현하기"
      ]
    },
    {
      "cell_type": "code",
      "metadata": {
        "id": "oMeLbPbVfWp6",
        "colab_type": "code",
        "colab": {
          "base_uri": "https://localhost:8080/",
          "height": 530
        },
        "outputId": "7fc3af3c-fe3f-4357-fdc1-829a53388c89"
      },
      "source": [
        "# 필요한 라이브러리를 불러들임.\n",
        "\n",
        "import tensorflow as tf\n",
        "import matplotlib.pyplot as plt\n",
        "import numpy as np\n",
        "\n",
        "from tensorflow.examples.tutorials.mnist import input_data\n",
        "mnist = input_data.read_data_sets(\"./mnist/data/\", one_hot=True)"
      ],
      "execution_count": 2,
      "outputs": [
        {
          "output_type": "stream",
          "text": [
            "WARNING:tensorflow:From <ipython-input-2-9347264098d3>:7: read_data_sets (from tensorflow.contrib.learn.python.learn.datasets.mnist) is deprecated and will be removed in a future version.\n",
            "Instructions for updating:\n",
            "Please use alternatives such as official/mnist/dataset.py from tensorflow/models.\n",
            "WARNING:tensorflow:From /usr/local/lib/python3.6/dist-packages/tensorflow/contrib/learn/python/learn/datasets/mnist.py:260: maybe_download (from tensorflow.contrib.learn.python.learn.datasets.base) is deprecated and will be removed in a future version.\n",
            "Instructions for updating:\n",
            "Please write your own downloading logic.\n",
            "WARNING:tensorflow:From /usr/local/lib/python3.6/dist-packages/tensorflow/contrib/learn/python/learn/datasets/base.py:252: _internal_retry.<locals>.wrap.<locals>.wrapped_fn (from tensorflow.contrib.learn.python.learn.datasets.base) is deprecated and will be removed in a future version.\n",
            "Instructions for updating:\n",
            "Please use urllib or similar directly.\n",
            "Successfully downloaded train-images-idx3-ubyte.gz 9912422 bytes.\n",
            "WARNING:tensorflow:From /usr/local/lib/python3.6/dist-packages/tensorflow/contrib/learn/python/learn/datasets/mnist.py:262: extract_images (from tensorflow.contrib.learn.python.learn.datasets.mnist) is deprecated and will be removed in a future version.\n",
            "Instructions for updating:\n",
            "Please use tf.data to implement this functionality.\n",
            "Extracting ./mnist/data/train-images-idx3-ubyte.gz\n",
            "Successfully downloaded train-labels-idx1-ubyte.gz 28881 bytes.\n",
            "WARNING:tensorflow:From /usr/local/lib/python3.6/dist-packages/tensorflow/contrib/learn/python/learn/datasets/mnist.py:267: extract_labels (from tensorflow.contrib.learn.python.learn.datasets.mnist) is deprecated and will be removed in a future version.\n",
            "Instructions for updating:\n",
            "Please use tf.data to implement this functionality.\n",
            "Extracting ./mnist/data/train-labels-idx1-ubyte.gz\n",
            "WARNING:tensorflow:From /usr/local/lib/python3.6/dist-packages/tensorflow/contrib/learn/python/learn/datasets/mnist.py:110: dense_to_one_hot (from tensorflow.contrib.learn.python.learn.datasets.mnist) is deprecated and will be removed in a future version.\n",
            "Instructions for updating:\n",
            "Please use tf.one_hot on tensors.\n",
            "Successfully downloaded t10k-images-idx3-ubyte.gz 1648877 bytes.\n",
            "Extracting ./mnist/data/t10k-images-idx3-ubyte.gz\n",
            "Successfully downloaded t10k-labels-idx1-ubyte.gz 4542 bytes.\n",
            "Extracting ./mnist/data/t10k-labels-idx1-ubyte.gz\n",
            "WARNING:tensorflow:From /usr/local/lib/python3.6/dist-packages/tensorflow/contrib/learn/python/learn/datasets/mnist.py:290: DataSet.__init__ (from tensorflow.contrib.learn.python.learn.datasets.mnist) is deprecated and will be removed in a future version.\n",
            "Instructions for updating:\n",
            "Please use alternatives such as official/mnist/dataset.py from tensorflow/models.\n"
          ],
          "name": "stdout"
        }
      ]
    },
    {
      "cell_type": "code",
      "metadata": {
        "id": "rBbFhxhdgtmV",
        "colab_type": "code",
        "colab": {}
      },
      "source": [
        "# 하이퍼 파마리터들을 설정\n",
        "# 맨 마지막의 n_noise는 생성자의 입력값으로 사용할 노이즈의 크기\n",
        "# 랜덤한 노이즈를 입력하고 그 노이즈에서 손글씨 이미지를 무작위로 생성\n",
        "\n",
        "total_epoch = 100\n",
        "batch_size = 100\n",
        "learning_rate = 0.0002\n",
        "n_hidden = 256\n",
        "n_input = 28 * 28\n",
        "n_noise = 128"
      ],
      "execution_count": 0,
      "outputs": []
    },
    {
      "cell_type": "code",
      "metadata": {
        "id": "OG-XEsGPhPeH",
        "colab_type": "code",
        "colab": {}
      },
      "source": [
        ""
      ],
      "execution_count": 0,
      "outputs": []
    }
  ]
}