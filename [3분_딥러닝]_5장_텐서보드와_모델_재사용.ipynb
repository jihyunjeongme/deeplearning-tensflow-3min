{
  "nbformat": 4,
  "nbformat_minor": 0,
  "metadata": {
    "colab": {
      "name": "[3분 딥러닝] 5장 - 텐서보드와 모델 재사용.ipynb",
      "version": "0.3.2",
      "provenance": [],
      "collapsed_sections": [],
      "include_colab_link": true
    },
    "kernelspec": {
      "name": "python3",
      "display_name": "Python 3"
    },
    "accelerator": "GPU"
  },
  "cells": [
    {
      "cell_type": "markdown",
      "metadata": {
        "id": "view-in-github",
        "colab_type": "text"
      },
      "source": [
        "<a href=\"https://colab.research.google.com/github/jihyunjeongme/deeplearning-tensflow-3min/blob/master/%5B3%EB%B6%84_%EB%94%A5%EB%9F%AC%EB%8B%9D%5D_5%EC%9E%A5_%ED%85%90%EC%84%9C%EB%B3%B4%EB%93%9C%EC%99%80_%EB%AA%A8%EB%8D%B8_%EC%9E%AC%EC%82%AC%EC%9A%A9.ipynb\" target=\"_parent\"><img src=\"https://colab.research.google.com/assets/colab-badge.svg\" alt=\"Open In Colab\"/></a>"
      ]
    },
    {
      "cell_type": "markdown",
      "metadata": {
        "id": "znf-IRwrq4qC",
        "colab_type": "text"
      },
      "source": [
        "# 5.1 학습 모델 저장하고 재사용하기"
      ]
    },
    {
      "cell_type": "code",
      "metadata": {
        "id": "1IrO5_8cB4_D",
        "colab_type": "code",
        "outputId": "d3cd6405-fc2a-445c-d9b5-6a3398291c8c",
        "colab": {
          "base_uri": "https://localhost:8080/",
          "height": 54
        }
      },
      "source": [
        "from google.colab import drive\n",
        "\n",
        "drive.mount('/content/gdrive')"
      ],
      "execution_count": 57,
      "outputs": [
        {
          "output_type": "stream",
          "text": [
            "Drive already mounted at /content/gdrive; to attempt to forcibly remount, call drive.mount(\"/content/gdrive\", force_remount=True).\n"
          ],
          "name": "stdout"
        }
      ]
    },
    {
      "cell_type": "code",
      "metadata": {
        "id": "_E5E0l3BCY9N",
        "colab_type": "code",
        "outputId": "0d0a614d-7026-469e-c598-0a1a4165349c",
        "colab": {
          "base_uri": "https://localhost:8080/",
          "height": 34
        }
      },
      "source": [
        "cd /content/gdrive/My Drive/Colab Notebooks/deeplearning-tensorflow-3mins"
      ],
      "execution_count": 48,
      "outputs": [
        {
          "output_type": "stream",
          "text": [
            "/content/gdrive/My Drive/Colab Notebooks/deeplearning-tensorflow-3mins\n"
          ],
          "name": "stdout"
        }
      ]
    },
    {
      "cell_type": "code",
      "metadata": {
        "id": "AOZqswM3DE0x",
        "colab_type": "code",
        "colab": {}
      },
      "source": [
        "import tensorflow as tf\n",
        "import numpy as np\n",
        "\n",
        "data = np.loadtxt('./data.csv', delimiter=',',\n",
        "                 unpack=True, dtype='float32')\n",
        "\n",
        "x_data = np.transpose(data[0:2])\n",
        "y_data = np.transpose(data[2:])\n"
      ],
      "execution_count": 0,
      "outputs": []
    },
    {
      "cell_type": "code",
      "metadata": {
        "id": "cENNQfojDcC_",
        "colab_type": "code",
        "colab": {}
      },
      "source": [
        "# loadtxt 함수를 이용하여 간단하게 데이터를 읽어들인 후 \n",
        "# 1열과 2열은 x_data로, 3열부터 마지막 열까지는 y_data로 변환하였음."
      ],
      "execution_count": 0,
      "outputs": []
    },
    {
      "cell_type": "code",
      "metadata": {
        "id": "bugClI16DnLZ",
        "colab_type": "code",
        "colab": {}
      },
      "source": [
        "# 신경망 모델을 구성할 차례\n",
        "# 학습 횟수를 카운트 하는 변수(학습에 직접 사용되지는 않음)\n",
        "# 변수 정의 시 trainable=False라는 옵션을 줌\n",
        "\n",
        "global_step = tf.Variable(0, trainable=False, name='global_step')\n"
      ],
      "execution_count": 0,
      "outputs": []
    },
    {
      "cell_type": "code",
      "metadata": {
        "id": "05wjmEjHD9xQ",
        "colab_type": "code",
        "colab": {}
      },
      "source": [
        "# 앞 장에서 보다 계층을 하나 더 늘리고, 편향은 없이 가중치만 사용한 모델로 만들어 봄\n",
        "# 계층은 하나 늘었지만, 모델이 더 간략해졌으니 신경망의 구성이 조금 더 명확하게 드러남\n",
        "\n",
        "X = tf.placeholder(tf.float32)\n",
        "Y = tf.placeholder(tf.float32)\\\n",
        "\n",
        "W1 = tf.Variable(tf.random_uniform([2, 10], -1., 1.))\n",
        "L1 = tf.nn.relu(tf.matmul(X, W1))\n",
        "\n",
        "W2 = tf.Variable(tf.random_uniform([10, 20], -1., 1.))\n",
        "L2 = tf.nn.relu(tf.matmul(L1, W2))\n",
        "\n",
        "W3 = tf.Variable(tf.random_uniform([20, 3], -1., 1.))\n",
        "model = tf.matmul(L2, W3)\n",
        "\n",
        "cost = tf.reduce_mean(\n",
        "tf.nn.softmax_cross_entropy_with_logits_v2(labels=Y,\n",
        "                                          logits=model))\n",
        "\n",
        "optimizer = tf.train.AdamOptimizer(learning_rate=0.01)\n",
        "train_op = optimizer.minimize(cost, global_step=global_step)"
      ],
      "execution_count": 0,
      "outputs": []
    },
    {
      "cell_type": "code",
      "metadata": {
        "id": "4HH_zdm-FOFy",
        "colab_type": "code",
        "colab": {}
      },
      "source": [
        "# 코드를 보면 두 번째 가중치인 W2의 형태가 [10, 20]인것을 볼 수있음.\n",
        "# 이유는 앞단 계층의 출력 크기가 10이고, 뒷단 계층의 입력 크기가 20이기 때문\n",
        "# global_step 매개변수에 앞서 정의한 global_step변수를 넘겨준 것을 확인\n",
        "# 이렇게 하면 최적화 함수가 학습용 변수들을 최적화 할때마다\n",
        "# global_step 변수의 값을 1씩 증가시키게 됨"
      ],
      "execution_count": 0,
      "outputs": []
    },
    {
      "cell_type": "code",
      "metadata": {
        "id": "Nm_pZDAYF8OB",
        "colab_type": "code",
        "colab": {}
      },
      "source": [
        "# 모델 구성 끝\n",
        "# 세션을 열고 최적화를 실행\n",
        "# 모델을 불러들이고 저장하는 코드\n",
        "\n",
        "########\n",
        "# 신경망 모델 학습\n",
        "#######\n",
        "\n",
        "sess = tf.Session()\n",
        "saver = tf.train.Saver(tf.global_variables())"
      ],
      "execution_count": 0,
      "outputs": []
    },
    {
      "cell_type": "code",
      "metadata": {
        "id": "glHEHZq1GFKy",
        "colab_type": "code",
        "colab": {}
      },
      "source": [
        "# tf.global_variables는 앞서 정의한 변수들을 가져오는 함수\n",
        "# 이 함수를 써서 앞서 정의한 변수들을 모두 가져와서, 이후 변수들을 파일에 저장하거나\n",
        "# 이전에 학습한 결과를 불러와 담는 변수들로 사용"
      ],
      "execution_count": 0,
      "outputs": []
    },
    {
      "cell_type": "code",
      "metadata": {
        "id": "LNsa8xK_GVps",
        "colab_type": "code",
        "colab": {}
      },
      "source": [
        "# ./model 디렉터리에 기존에 학습해둔 모델이 있는지를 확인해서 \n",
        "# 모델이 있다면 saver.restore 함수를 사용해 학습된 값들을 불러오고,\n",
        "# 아니면 변수를 새로 초기화\n",
        "# 학습된 모델을 저장한 파일을 체크포인트 파일 이라고 함\n",
        "\n",
        "ckpt = tf.train.get_checkpoint_state('./model')\n",
        "if ckpt and tf.train.checkpoint_exists(ckpt.model_checkpoint_path):\n",
        "  saver.restore(sess, ckpt.model_checkpoint_path)\n",
        "else:\n",
        "  sess.run(tf.global_variables_initializer())\n",
        "  "
      ],
      "execution_count": 0,
      "outputs": []
    },
    {
      "cell_type": "code",
      "metadata": {
        "id": "DzZUzkdGj_B9",
        "colab_type": "code",
        "colab": {
          "base_uri": "https://localhost:8080/",
          "height": 51
        },
        "outputId": "85ee872f-753f-41cb-909a-0a86bcc5a866"
      },
      "source": [
        "# 최적화 수행\n",
        "# 이전과는 달리 step 값이 아니라 global_step 값을 이용해 \n",
        "# 학습을 몇 번째 진행하고 있는지를 출력\n",
        "# global_step은 텐서 타입의 변수이므로 값을 가져 올 때 sess.run(global_step)을 이용\n",
        "\n",
        "for step in range(2):\n",
        "  sess.run(train_op, feed_dict={X: x_data, Y:y_data})\n",
        "  \n",
        "  print('Step: %d, ' % sess.run(global_step),\n",
        "        'Cost: %.3f' % sess.run(cost, feed_dict={X: x_data, Y: y_data}))\n",
        "  "
      ],
      "execution_count": 24,
      "outputs": [
        {
          "output_type": "stream",
          "text": [
            "Step: 9,  Cost: 0.781\n",
            "Step: 10,  Cost: 0.728\n"
          ],
          "name": "stdout"
        }
      ]
    },
    {
      "cell_type": "code",
      "metadata": {
        "id": "pNa2G2R-kvPA",
        "colab_type": "code",
        "colab": {
          "base_uri": "https://localhost:8080/",
          "height": 34
        },
        "outputId": "77365a43-fe6d-4983-9f9a-0137fdd87278"
      },
      "source": [
        "# 마지막으로 최적화가 끝난 뒤 학습된 변수들을 지정한 체크포인트 파일에 저장\n",
        "# 두 번쨰 매개변수는 체크포인트 파일의 위치와 이름\n",
        "# global_step의 값은 저장할 파일의 이름을 추가로 붙게 되며\n",
        "# 텐서 변수 또는 숫자값을 넣어줄 수 있습니다.\n",
        "# 이를 이용해 여러 상태의 체크포인트를 만들 수 있고, 가장 효과적인 체크포인트를 선별,사용\n",
        "\n",
        "\n",
        "saver.save(sess, './model/dnn.ckpt', global_step=global_step)"
      ],
      "execution_count": 29,
      "outputs": [
        {
          "output_type": "execute_result",
          "data": {
            "text/plain": [
              "'./model/dnn.ckpt-10'"
            ]
          },
          "metadata": {
            "tags": []
          },
          "execution_count": 29
        }
      ]
    },
    {
      "cell_type": "code",
      "metadata": {
        "id": "03JtILdqmNYX",
        "colab_type": "code",
        "colab": {
          "base_uri": "https://localhost:8080/",
          "height": 68
        },
        "outputId": "7c143148-f3b0-440e-da8d-ee516a726d6d"
      },
      "source": [
        "# 예측 결과와 정확도 확인\n",
        "\n",
        "prediction = tf.argmax(model, 1)\n",
        "target = tf.argmax(Y, 1)\n",
        "print('예측값:', sess.run(prediction, feed_dict={X: x_data}))\n",
        "print('실제값:', sess.run(target, feed_dict={Y: y_data}))\n",
        "\n",
        "is_correct = tf.equal(prediction, target)\n",
        "accuracy = tf.equal(prediction, target)\n",
        "accuracy = tf.reduce_mean(tf.cast(is_correct, tf.float32))\n",
        "print('정확도: %.2f' % sess.run(accuracy * 100, feed_dict={X: x_data,\n",
        "                                                       Y: y_data}))"
      ],
      "execution_count": 30,
      "outputs": [
        {
          "output_type": "stream",
          "text": [
            "예측값: [0 1 2 0 0 2]\n",
            "실제값: [0 1 2 0 0 2]\n",
            "정확도: 100.00\n"
          ],
          "name": "stdout"
        }
      ]
    },
    {
      "cell_type": "code",
      "metadata": {
        "id": "sO_kEVq_ny84",
        "colab_type": "code",
        "colab": {}
      },
      "source": [
        "# 총 10번을 실했해을 때 정확도가 100.00으로 나옴\n",
        "# gobal_step으로 저장한 값을 불러와서 증가시키면 step이 늘어남\n",
        "# 텐서플로를 이용하면 이렇게 쉽게 학습시킨 모델을 저장하고 불러와서\n",
        "# 재사용 할수 있음.\n",
        "# 이 방식을 이용해 모델 구성, 학습, 예측 부분을 각각 분리하여 학습을 따로 한 뒤\n",
        "# 예측만 단독으로 실행하는 프로그램을 작성할 수 있음"
      ],
      "execution_count": 0,
      "outputs": []
    },
    {
      "cell_type": "markdown",
      "metadata": {
        "id": "8yFdWcCKq0LI",
        "colab_type": "text"
      },
      "source": [
        "# 5.2 텐서보드 사용하기"
      ]
    },
    {
      "cell_type": "code",
      "metadata": {
        "id": "-nHBSugOq9mK",
        "colab_type": "code",
        "colab": {}
      },
      "source": [
        "# 텐서보드는 학습 과정을 추정하는 데 용이\n",
        "# 학습하는 중간중간 손실값이나 정확도 또는 결로 나온 이미지나 사운드 파일들을\n",
        "# 다양한 방식으로 시각화해 보여줌"
      ],
      "execution_count": 0,
      "outputs": []
    },
    {
      "cell_type": "code",
      "metadata": {
        "id": "IrkWn6SUrUHd",
        "colab_type": "code",
        "colab": {}
      },
      "source": [
        "# 먼저 데이터를 읽어 들이는 코드와 플레이스홀더 값들을 똑같이 넣어줌\n",
        "\n",
        "import tensorflow as tf\n",
        "import numpy as np\n",
        "\n",
        "data = np.loadtxt('./data.csv', delimiter=',',\n",
        "                 unpack=True, dtype='float32')\n",
        "\n",
        "x_data = np.transpose(data[0:2])\n",
        "y_data = np.transpose(data[2:])\n",
        "\n",
        "global_step = tf.Variable(0, trainable=False, name='global_step')\n",
        "\n",
        "X = tf.placeholder(tf.float32)\n",
        "Y = tf.placeholder(tf.float32)"
      ],
      "execution_count": 0,
      "outputs": []
    },
    {
      "cell_type": "code",
      "metadata": {
        "id": "sEYJhySwreEd",
        "colab_type": "code",
        "colab": {}
      },
      "source": [
        "# 신경망의 각 계층에 다음 코드를 덧붙여 줍니다.\n",
        "# with tf.name_scope로 묶은 블록은 텐서보드에서 한 계층 내부를 표현\n",
        "# name='W1' 이름 붙이면 텐서보드에서 해당 이름의 변수가 어디서 사용되는지 쉽게 확인\n",
        "# 이름은 변수뿐만 아니라 플레이스 홀더, 각각의 연산, 활성화 함수 등 모든 텐서에 붙일 수 있음\n",
        "\n",
        "\n",
        "with tf.name_scope('layer1'):\n",
        "  W1 = tf.Variable(tf.random_uniform([2,10], -1., 1.), name='W1')\n",
        "  L1 = tf.nn.relu(tf.matmul(X,W1))\n",
        "  "
      ],
      "execution_count": 0,
      "outputs": []
    },
    {
      "cell_type": "code",
      "metadata": {
        "id": "NkGWFjOgs9zb",
        "colab_type": "code",
        "colab": {}
      },
      "source": [
        "# 이렇게 다른 계층들도 전부 tf.name_scope로 묶어주고 이름도 붙여줌\n",
        "\n",
        "with tf.name_scope('layer2'):\n",
        "  W2 = tf.Variable(tf.random_uniform([10,20], -1., 1.), name='W2')\n",
        "  L2 = tf.nn.relu(tf.matmul(L1,W2))\n",
        "  \n",
        "with tf.name_scope('output'):\n",
        "  W3 = tf.Variable(tf.random_uniform([20,3], -1., 1.), name='W3')\n",
        "  model = tf.matmul(L2,W3)\n",
        "  \n",
        "with tf.name_scope('optimizer'):\n",
        "  cost = tf.reduce_mean(\n",
        "    tf.nn.softmax_cross_entropy_with_logits_v2(labels=Y,\n",
        "                                               logits=model))\n",
        "  \n",
        "  optimizer = tf.train.AdamOptimizer(learning_rate=0.01)\n",
        "  train_op = optimizer.minimize(cost, global_step=global_step)\n",
        "    "
      ],
      "execution_count": 0,
      "outputs": []
    },
    {
      "cell_type": "code",
      "metadata": {
        "id": "iLOrkG5SugwI",
        "colab_type": "code",
        "colab": {
          "base_uri": "https://localhost:8080/",
          "height": 34
        },
        "outputId": "91ffcd50-4e52-405e-9e5c-f7ad4fc698b7"
      },
      "source": [
        "# 손실값을 추적하기 위해 수집할 값을 지정하는 코드 작성\n",
        "# tf.summary 모듈의 scalar 함수는 값이 하나인 텐서를 수집할 떄 사용\n",
        "\n",
        "tf.summary.scalar('cost',cost)"
      ],
      "execution_count": 70,
      "outputs": [
        {
          "output_type": "execute_result",
          "data": {
            "text/plain": [
              "<tf.Tensor 'cost_3:0' shape=() dtype=string>"
            ]
          },
          "metadata": {
            "tags": []
          },
          "execution_count": 70
        }
      ]
    },
    {
      "cell_type": "code",
      "metadata": {
        "id": "8fzuhkyVvULJ",
        "colab_type": "code",
        "colab": {}
      },
      "source": [
        "# 모델을 불러들이거나 초기화\n",
        "\n",
        "sess = tf.Session()\n",
        "saver = tf.train.Saver(tf.global_variables())\n",
        "\n",
        "ckpt = tf.train.get_checkpoint_state('./model')\n",
        "if ckpt and tf.train.checkpoint_exists(ckpt.model_checkpoint_path):\n",
        "  saver.restore(sess, ckpt.model_checkpoint_path)\n",
        "else:\n",
        "  sess.run(tf.global_variables_initializer())\n",
        "  "
      ],
      "execution_count": 0,
      "outputs": []
    },
    {
      "cell_type": "code",
      "metadata": {
        "id": "aNcPhsZ8v7Ih",
        "colab_type": "code",
        "colab": {}
      },
      "source": [
        "# tf.summary.merge_all 함수로 앞서 지정한 텐서들을 수집한 다음\n",
        "# tf.summary.FileWriter 함수를 이용해 그래프와 텐서들의 값을 저장할 디텍터리 설정\n",
        "\n",
        "merged = tf.summary.merge_all()\n",
        "writer = tf.summary.FileWriter('./logs', sess.graph)"
      ],
      "execution_count": 0,
      "outputs": []
    },
    {
      "cell_type": "code",
      "metadata": {
        "id": "MVvK99DwxWhn",
        "colab_type": "code",
        "colab": {
          "base_uri": "https://localhost:8080/",
          "height": 1717
        },
        "outputId": "e6ce9b37-529c-468c-eba9-8b50987cd115"
      },
      "source": [
        "# 최적화를 실행하는 코드를 앞서와 같이 작성\n",
        "\n",
        "for step in range(100):\n",
        "  sess.run(train_op, feed_dict={X: x_data, Y:y_data})\n",
        "  \n",
        "  print('Step: %d, ' % sess.run(global_step),\n",
        "        'Cost: %.3f' % sess.run(cost, feed_dict={X: x_data, Y: y_data}))\n",
        "  "
      ],
      "execution_count": 73,
      "outputs": [
        {
          "output_type": "stream",
          "text": [
            "Step: 1,  Cost: 1.667\n",
            "Step: 2,  Cost: 1.497\n",
            "Step: 3,  Cost: 1.344\n",
            "Step: 4,  Cost: 1.210\n",
            "Step: 5,  Cost: 1.099\n",
            "Step: 6,  Cost: 1.010\n",
            "Step: 7,  Cost: 0.946\n",
            "Step: 8,  Cost: 0.900\n",
            "Step: 9,  Cost: 0.864\n",
            "Step: 10,  Cost: 0.835\n",
            "Step: 11,  Cost: 0.812\n",
            "Step: 12,  Cost: 0.790\n",
            "Step: 13,  Cost: 0.768\n",
            "Step: 14,  Cost: 0.747\n",
            "Step: 15,  Cost: 0.728\n",
            "Step: 16,  Cost: 0.710\n",
            "Step: 17,  Cost: 0.693\n",
            "Step: 18,  Cost: 0.677\n",
            "Step: 19,  Cost: 0.663\n",
            "Step: 20,  Cost: 0.649\n",
            "Step: 21,  Cost: 0.636\n",
            "Step: 22,  Cost: 0.624\n",
            "Step: 23,  Cost: 0.614\n",
            "Step: 24,  Cost: 0.605\n",
            "Step: 25,  Cost: 0.598\n",
            "Step: 26,  Cost: 0.592\n",
            "Step: 27,  Cost: 0.587\n",
            "Step: 28,  Cost: 0.582\n",
            "Step: 29,  Cost: 0.578\n",
            "Step: 30,  Cost: 0.575\n",
            "Step: 31,  Cost: 0.572\n",
            "Step: 32,  Cost: 0.570\n",
            "Step: 33,  Cost: 0.567\n",
            "Step: 34,  Cost: 0.566\n",
            "Step: 35,  Cost: 0.564\n",
            "Step: 36,  Cost: 0.563\n",
            "Step: 37,  Cost: 0.561\n",
            "Step: 38,  Cost: 0.560\n",
            "Step: 39,  Cost: 0.559\n",
            "Step: 40,  Cost: 0.558\n",
            "Step: 41,  Cost: 0.558\n",
            "Step: 42,  Cost: 0.557\n",
            "Step: 43,  Cost: 0.556\n",
            "Step: 44,  Cost: 0.556\n",
            "Step: 45,  Cost: 0.555\n",
            "Step: 46,  Cost: 0.555\n",
            "Step: 47,  Cost: 0.555\n",
            "Step: 48,  Cost: 0.554\n",
            "Step: 49,  Cost: 0.554\n",
            "Step: 50,  Cost: 0.554\n",
            "Step: 51,  Cost: 0.553\n",
            "Step: 52,  Cost: 0.553\n",
            "Step: 53,  Cost: 0.553\n",
            "Step: 54,  Cost: 0.553\n",
            "Step: 55,  Cost: 0.553\n",
            "Step: 56,  Cost: 0.552\n",
            "Step: 57,  Cost: 0.552\n",
            "Step: 58,  Cost: 0.552\n",
            "Step: 59,  Cost: 0.552\n",
            "Step: 60,  Cost: 0.552\n",
            "Step: 61,  Cost: 0.552\n",
            "Step: 62,  Cost: 0.552\n",
            "Step: 63,  Cost: 0.552\n",
            "Step: 64,  Cost: 0.552\n",
            "Step: 65,  Cost: 0.551\n",
            "Step: 66,  Cost: 0.551\n",
            "Step: 67,  Cost: 0.551\n",
            "Step: 68,  Cost: 0.551\n",
            "Step: 69,  Cost: 0.551\n",
            "Step: 70,  Cost: 0.551\n",
            "Step: 71,  Cost: 0.551\n",
            "Step: 72,  Cost: 0.551\n",
            "Step: 73,  Cost: 0.551\n",
            "Step: 74,  Cost: 0.551\n",
            "Step: 75,  Cost: 0.551\n",
            "Step: 76,  Cost: 0.551\n",
            "Step: 77,  Cost: 0.551\n",
            "Step: 78,  Cost: 0.551\n",
            "Step: 79,  Cost: 0.551\n",
            "Step: 80,  Cost: 0.551\n",
            "Step: 81,  Cost: 0.551\n",
            "Step: 82,  Cost: 0.551\n",
            "Step: 83,  Cost: 0.551\n",
            "Step: 84,  Cost: 0.551\n",
            "Step: 85,  Cost: 0.551\n",
            "Step: 86,  Cost: 0.551\n",
            "Step: 87,  Cost: 0.551\n",
            "Step: 88,  Cost: 0.551\n",
            "Step: 89,  Cost: 0.551\n",
            "Step: 90,  Cost: 0.550\n",
            "Step: 91,  Cost: 0.550\n",
            "Step: 92,  Cost: 0.550\n",
            "Step: 93,  Cost: 0.550\n",
            "Step: 94,  Cost: 0.550\n",
            "Step: 95,  Cost: 0.550\n",
            "Step: 96,  Cost: 0.550\n",
            "Step: 97,  Cost: 0.550\n",
            "Step: 98,  Cost: 0.550\n",
            "Step: 99,  Cost: 0.550\n",
            "Step: 100,  Cost: 0.550\n"
          ],
          "name": "stdout"
        }
      ]
    },
    {
      "cell_type": "code",
      "metadata": {
        "id": "teZu0wkyx-O6",
        "colab_type": "code",
        "colab": {
          "base_uri": "https://localhost:8080/",
          "height": 1449
        },
        "outputId": "24e3da96-464b-4e49-f1ec-6491ecc4a727"
      },
      "source": [
        "# sess.run을 이용해 앞서 merged로 모아둔 텐서의 값을 계산하여 수집한 뒤\n",
        "# writer.add_summary 함수를 이용해 해당 값들을 앞서 지정한 디텍터리에 저장\n",
        "# 적절한 시점에(여기서는 매 단계에서) 값들을 수집하고 저장하면 되며\n",
        "# 나중에 확인할 수 있도록 global_step 값을 이용해 수집한 시점을 기록해둠\n",
        "\n",
        "summary = sess.run(merged, feed_dict={X: x_data, Y: y_data})\n",
        "writer.add_summary(summary, global_step=sess.run(global_step))"
      ],
      "execution_count": 74,
      "outputs": [
        {
          "output_type": "error",
          "ename": "InvalidArgumentError",
          "evalue": "ignored",
          "traceback": [
            "\u001b[0;31m---------------------------------------------------------------------------\u001b[0m",
            "\u001b[0;31mInvalidArgumentError\u001b[0m                      Traceback (most recent call last)",
            "\u001b[0;32m/usr/local/lib/python3.6/dist-packages/tensorflow/python/client/session.py\u001b[0m in \u001b[0;36m_do_call\u001b[0;34m(self, fn, *args)\u001b[0m\n\u001b[1;32m   1333\u001b[0m     \u001b[0;32mtry\u001b[0m\u001b[0;34m:\u001b[0m\u001b[0;34m\u001b[0m\u001b[0;34m\u001b[0m\u001b[0m\n\u001b[0;32m-> 1334\u001b[0;31m       \u001b[0;32mreturn\u001b[0m \u001b[0mfn\u001b[0m\u001b[0;34m(\u001b[0m\u001b[0;34m*\u001b[0m\u001b[0margs\u001b[0m\u001b[0;34m)\u001b[0m\u001b[0;34m\u001b[0m\u001b[0;34m\u001b[0m\u001b[0m\n\u001b[0m\u001b[1;32m   1335\u001b[0m     \u001b[0;32mexcept\u001b[0m \u001b[0merrors\u001b[0m\u001b[0;34m.\u001b[0m\u001b[0mOpError\u001b[0m \u001b[0;32mas\u001b[0m \u001b[0me\u001b[0m\u001b[0;34m:\u001b[0m\u001b[0;34m\u001b[0m\u001b[0;34m\u001b[0m\u001b[0m\n",
            "\u001b[0;32m/usr/local/lib/python3.6/dist-packages/tensorflow/python/client/session.py\u001b[0m in \u001b[0;36m_run_fn\u001b[0;34m(feed_dict, fetch_list, target_list, options, run_metadata)\u001b[0m\n\u001b[1;32m   1318\u001b[0m       return self._call_tf_sessionrun(\n\u001b[0;32m-> 1319\u001b[0;31m           options, feed_dict, fetch_list, target_list, run_metadata)\n\u001b[0m\u001b[1;32m   1320\u001b[0m \u001b[0;34m\u001b[0m\u001b[0m\n",
            "\u001b[0;32m/usr/local/lib/python3.6/dist-packages/tensorflow/python/client/session.py\u001b[0m in \u001b[0;36m_call_tf_sessionrun\u001b[0;34m(self, options, feed_dict, fetch_list, target_list, run_metadata)\u001b[0m\n\u001b[1;32m   1406\u001b[0m         \u001b[0mself\u001b[0m\u001b[0;34m.\u001b[0m\u001b[0m_session\u001b[0m\u001b[0;34m,\u001b[0m \u001b[0moptions\u001b[0m\u001b[0;34m,\u001b[0m \u001b[0mfeed_dict\u001b[0m\u001b[0;34m,\u001b[0m \u001b[0mfetch_list\u001b[0m\u001b[0;34m,\u001b[0m \u001b[0mtarget_list\u001b[0m\u001b[0;34m,\u001b[0m\u001b[0;34m\u001b[0m\u001b[0;34m\u001b[0m\u001b[0m\n\u001b[0;32m-> 1407\u001b[0;31m         run_metadata)\n\u001b[0m\u001b[1;32m   1408\u001b[0m \u001b[0;34m\u001b[0m\u001b[0m\n",
            "\u001b[0;31mInvalidArgumentError\u001b[0m: You must feed a value for placeholder tensor 'Placeholder_9' with dtype float\n\t [[{{node Placeholder_9}}]]",
            "\nDuring handling of the above exception, another exception occurred:\n",
            "\u001b[0;31mInvalidArgumentError\u001b[0m                      Traceback (most recent call last)",
            "\u001b[0;32m<ipython-input-74-b3996586fa54>\u001b[0m in \u001b[0;36m<module>\u001b[0;34m()\u001b[0m\n\u001b[1;32m      1\u001b[0m \u001b[0;34m\u001b[0m\u001b[0m\n\u001b[0;32m----> 2\u001b[0;31m \u001b[0msummary\u001b[0m \u001b[0;34m=\u001b[0m \u001b[0msess\u001b[0m\u001b[0;34m.\u001b[0m\u001b[0mrun\u001b[0m\u001b[0;34m(\u001b[0m\u001b[0mmerged\u001b[0m\u001b[0;34m,\u001b[0m \u001b[0mfeed_dict\u001b[0m\u001b[0;34m=\u001b[0m\u001b[0;34m{\u001b[0m\u001b[0mX\u001b[0m\u001b[0;34m:\u001b[0m \u001b[0mx_data\u001b[0m\u001b[0;34m,\u001b[0m \u001b[0mY\u001b[0m\u001b[0;34m:\u001b[0m \u001b[0my_data\u001b[0m\u001b[0;34m}\u001b[0m\u001b[0;34m)\u001b[0m\u001b[0;34m\u001b[0m\u001b[0;34m\u001b[0m\u001b[0m\n\u001b[0m\u001b[1;32m      3\u001b[0m \u001b[0mwriter\u001b[0m\u001b[0;34m.\u001b[0m\u001b[0madd_summary\u001b[0m\u001b[0;34m(\u001b[0m\u001b[0msummary\u001b[0m\u001b[0;34m,\u001b[0m \u001b[0mglobal_step\u001b[0m\u001b[0;34m=\u001b[0m\u001b[0msess\u001b[0m\u001b[0;34m.\u001b[0m\u001b[0mrun\u001b[0m\u001b[0;34m(\u001b[0m\u001b[0mglobal_step\u001b[0m\u001b[0;34m)\u001b[0m\u001b[0;34m)\u001b[0m\u001b[0;34m\u001b[0m\u001b[0;34m\u001b[0m\u001b[0m\n",
            "\u001b[0;32m/usr/local/lib/python3.6/dist-packages/tensorflow/python/client/session.py\u001b[0m in \u001b[0;36mrun\u001b[0;34m(self, fetches, feed_dict, options, run_metadata)\u001b[0m\n\u001b[1;32m    927\u001b[0m     \u001b[0;32mtry\u001b[0m\u001b[0;34m:\u001b[0m\u001b[0;34m\u001b[0m\u001b[0;34m\u001b[0m\u001b[0m\n\u001b[1;32m    928\u001b[0m       result = self._run(None, fetches, feed_dict, options_ptr,\n\u001b[0;32m--> 929\u001b[0;31m                          run_metadata_ptr)\n\u001b[0m\u001b[1;32m    930\u001b[0m       \u001b[0;32mif\u001b[0m \u001b[0mrun_metadata\u001b[0m\u001b[0;34m:\u001b[0m\u001b[0;34m\u001b[0m\u001b[0;34m\u001b[0m\u001b[0m\n\u001b[1;32m    931\u001b[0m         \u001b[0mproto_data\u001b[0m \u001b[0;34m=\u001b[0m \u001b[0mtf_session\u001b[0m\u001b[0;34m.\u001b[0m\u001b[0mTF_GetBuffer\u001b[0m\u001b[0;34m(\u001b[0m\u001b[0mrun_metadata_ptr\u001b[0m\u001b[0;34m)\u001b[0m\u001b[0;34m\u001b[0m\u001b[0;34m\u001b[0m\u001b[0m\n",
            "\u001b[0;32m/usr/local/lib/python3.6/dist-packages/tensorflow/python/client/session.py\u001b[0m in \u001b[0;36m_run\u001b[0;34m(self, handle, fetches, feed_dict, options, run_metadata)\u001b[0m\n\u001b[1;32m   1150\u001b[0m     \u001b[0;32mif\u001b[0m \u001b[0mfinal_fetches\u001b[0m \u001b[0;32mor\u001b[0m \u001b[0mfinal_targets\u001b[0m \u001b[0;32mor\u001b[0m \u001b[0;34m(\u001b[0m\u001b[0mhandle\u001b[0m \u001b[0;32mand\u001b[0m \u001b[0mfeed_dict_tensor\u001b[0m\u001b[0;34m)\u001b[0m\u001b[0;34m:\u001b[0m\u001b[0;34m\u001b[0m\u001b[0;34m\u001b[0m\u001b[0m\n\u001b[1;32m   1151\u001b[0m       results = self._do_run(handle, final_targets, final_fetches,\n\u001b[0;32m-> 1152\u001b[0;31m                              feed_dict_tensor, options, run_metadata)\n\u001b[0m\u001b[1;32m   1153\u001b[0m     \u001b[0;32melse\u001b[0m\u001b[0;34m:\u001b[0m\u001b[0;34m\u001b[0m\u001b[0;34m\u001b[0m\u001b[0m\n\u001b[1;32m   1154\u001b[0m       \u001b[0mresults\u001b[0m \u001b[0;34m=\u001b[0m \u001b[0;34m[\u001b[0m\u001b[0;34m]\u001b[0m\u001b[0;34m\u001b[0m\u001b[0;34m\u001b[0m\u001b[0m\n",
            "\u001b[0;32m/usr/local/lib/python3.6/dist-packages/tensorflow/python/client/session.py\u001b[0m in \u001b[0;36m_do_run\u001b[0;34m(self, handle, target_list, fetch_list, feed_dict, options, run_metadata)\u001b[0m\n\u001b[1;32m   1326\u001b[0m     \u001b[0;32mif\u001b[0m \u001b[0mhandle\u001b[0m \u001b[0;32mis\u001b[0m \u001b[0;32mNone\u001b[0m\u001b[0;34m:\u001b[0m\u001b[0;34m\u001b[0m\u001b[0;34m\u001b[0m\u001b[0m\n\u001b[1;32m   1327\u001b[0m       return self._do_call(_run_fn, feeds, fetches, targets, options,\n\u001b[0;32m-> 1328\u001b[0;31m                            run_metadata)\n\u001b[0m\u001b[1;32m   1329\u001b[0m     \u001b[0;32melse\u001b[0m\u001b[0;34m:\u001b[0m\u001b[0;34m\u001b[0m\u001b[0;34m\u001b[0m\u001b[0m\n\u001b[1;32m   1330\u001b[0m       \u001b[0;32mreturn\u001b[0m \u001b[0mself\u001b[0m\u001b[0;34m.\u001b[0m\u001b[0m_do_call\u001b[0m\u001b[0;34m(\u001b[0m\u001b[0m_prun_fn\u001b[0m\u001b[0;34m,\u001b[0m \u001b[0mhandle\u001b[0m\u001b[0;34m,\u001b[0m \u001b[0mfeeds\u001b[0m\u001b[0;34m,\u001b[0m \u001b[0mfetches\u001b[0m\u001b[0;34m)\u001b[0m\u001b[0;34m\u001b[0m\u001b[0;34m\u001b[0m\u001b[0m\n",
            "\u001b[0;32m/usr/local/lib/python3.6/dist-packages/tensorflow/python/client/session.py\u001b[0m in \u001b[0;36m_do_call\u001b[0;34m(self, fn, *args)\u001b[0m\n\u001b[1;32m   1346\u001b[0m           \u001b[0;32mpass\u001b[0m\u001b[0;34m\u001b[0m\u001b[0;34m\u001b[0m\u001b[0m\n\u001b[1;32m   1347\u001b[0m       \u001b[0mmessage\u001b[0m \u001b[0;34m=\u001b[0m \u001b[0merror_interpolation\u001b[0m\u001b[0;34m.\u001b[0m\u001b[0minterpolate\u001b[0m\u001b[0;34m(\u001b[0m\u001b[0mmessage\u001b[0m\u001b[0;34m,\u001b[0m \u001b[0mself\u001b[0m\u001b[0;34m.\u001b[0m\u001b[0m_graph\u001b[0m\u001b[0;34m)\u001b[0m\u001b[0;34m\u001b[0m\u001b[0;34m\u001b[0m\u001b[0m\n\u001b[0;32m-> 1348\u001b[0;31m       \u001b[0;32mraise\u001b[0m \u001b[0mtype\u001b[0m\u001b[0;34m(\u001b[0m\u001b[0me\u001b[0m\u001b[0;34m)\u001b[0m\u001b[0;34m(\u001b[0m\u001b[0mnode_def\u001b[0m\u001b[0;34m,\u001b[0m \u001b[0mop\u001b[0m\u001b[0;34m,\u001b[0m \u001b[0mmessage\u001b[0m\u001b[0;34m)\u001b[0m\u001b[0;34m\u001b[0m\u001b[0;34m\u001b[0m\u001b[0m\n\u001b[0m\u001b[1;32m   1349\u001b[0m \u001b[0;34m\u001b[0m\u001b[0m\n\u001b[1;32m   1350\u001b[0m   \u001b[0;32mdef\u001b[0m \u001b[0m_extend_graph\u001b[0m\u001b[0;34m(\u001b[0m\u001b[0mself\u001b[0m\u001b[0;34m)\u001b[0m\u001b[0;34m:\u001b[0m\u001b[0;34m\u001b[0m\u001b[0;34m\u001b[0m\u001b[0m\n",
            "\u001b[0;31mInvalidArgumentError\u001b[0m: You must feed a value for placeholder tensor 'Placeholder_9' with dtype float\n\t [[node Placeholder_9 (defined at <ipython-input-58-fd9d01a2963b>:14) ]]\n\nCaused by op 'Placeholder_9', defined at:\n  File \"/usr/lib/python3.6/runpy.py\", line 193, in _run_module_as_main\n    \"__main__\", mod_spec)\n  File \"/usr/lib/python3.6/runpy.py\", line 85, in _run_code\n    exec(code, run_globals)\n  File \"/usr/local/lib/python3.6/dist-packages/ipykernel_launcher.py\", line 16, in <module>\n    app.launch_new_instance()\n  File \"/usr/local/lib/python3.6/dist-packages/traitlets/config/application.py\", line 658, in launch_instance\n    app.start()\n  File \"/usr/local/lib/python3.6/dist-packages/ipykernel/kernelapp.py\", line 477, in start\n    ioloop.IOLoop.instance().start()\n  File \"/usr/local/lib/python3.6/dist-packages/tornado/ioloop.py\", line 888, in start\n    handler_func(fd_obj, events)\n  File \"/usr/local/lib/python3.6/dist-packages/tornado/stack_context.py\", line 277, in null_wrapper\n    return fn(*args, **kwargs)\n  File \"/usr/local/lib/python3.6/dist-packages/zmq/eventloop/zmqstream.py\", line 450, in _handle_events\n    self._handle_recv()\n  File \"/usr/local/lib/python3.6/dist-packages/zmq/eventloop/zmqstream.py\", line 480, in _handle_recv\n    self._run_callback(callback, msg)\n  File \"/usr/local/lib/python3.6/dist-packages/zmq/eventloop/zmqstream.py\", line 432, in _run_callback\n    callback(*args, **kwargs)\n  File \"/usr/local/lib/python3.6/dist-packages/tornado/stack_context.py\", line 277, in null_wrapper\n    return fn(*args, **kwargs)\n  File \"/usr/local/lib/python3.6/dist-packages/ipykernel/kernelbase.py\", line 283, in dispatcher\n    return self.dispatch_shell(stream, msg)\n  File \"/usr/local/lib/python3.6/dist-packages/ipykernel/kernelbase.py\", line 235, in dispatch_shell\n    handler(stream, idents, msg)\n  File \"/usr/local/lib/python3.6/dist-packages/ipykernel/kernelbase.py\", line 399, in execute_request\n    user_expressions, allow_stdin)\n  File \"/usr/local/lib/python3.6/dist-packages/ipykernel/ipkernel.py\", line 196, in do_execute\n    res = shell.run_cell(code, store_history=store_history, silent=silent)\n  File \"/usr/local/lib/python3.6/dist-packages/ipykernel/zmqshell.py\", line 533, in run_cell\n    return super(ZMQInteractiveShell, self).run_cell(*args, **kwargs)\n  File \"/usr/local/lib/python3.6/dist-packages/IPython/core/interactiveshell.py\", line 2718, in run_cell\n    interactivity=interactivity, compiler=compiler, result=result)\n  File \"/usr/local/lib/python3.6/dist-packages/IPython/core/interactiveshell.py\", line 2822, in run_ast_nodes\n    if self.run_code(code, result):\n  File \"/usr/local/lib/python3.6/dist-packages/IPython/core/interactiveshell.py\", line 2882, in run_code\n    exec(code_obj, self.user_global_ns, self.user_ns)\n  File \"<ipython-input-58-fd9d01a2963b>\", line 14, in <module>\n    Y = tf.placeholder(tf.float32)\n  File \"/usr/local/lib/python3.6/dist-packages/tensorflow/python/ops/array_ops.py\", line 2077, in placeholder\n    return gen_array_ops.placeholder(dtype=dtype, shape=shape, name=name)\n  File \"/usr/local/lib/python3.6/dist-packages/tensorflow/python/ops/gen_array_ops.py\", line 5791, in placeholder\n    \"Placeholder\", dtype=dtype, shape=shape, name=name)\n  File \"/usr/local/lib/python3.6/dist-packages/tensorflow/python/framework/op_def_library.py\", line 788, in _apply_op_helper\n    op_def=op_def)\n  File \"/usr/local/lib/python3.6/dist-packages/tensorflow/python/util/deprecation.py\", line 507, in new_func\n    return func(*args, **kwargs)\n  File \"/usr/local/lib/python3.6/dist-packages/tensorflow/python/framework/ops.py\", line 3300, in create_op\n    op_def=op_def)\n  File \"/usr/local/lib/python3.6/dist-packages/tensorflow/python/framework/ops.py\", line 1801, in __init__\n    self._traceback = tf_stack.extract_stack()\n\nInvalidArgumentError (see above for traceback): You must feed a value for placeholder tensor 'Placeholder_9' with dtype float\n\t [[node Placeholder_9 (defined at <ipython-input-58-fd9d01a2963b>:14) ]]\n"
          ]
        }
      ]
    },
    {
      "cell_type": "code",
      "metadata": {
        "id": "30yOzb6ZyhOD",
        "colab_type": "code",
        "colab": {}
      },
      "source": [
        ""
      ],
      "execution_count": 0,
      "outputs": []
    }
  ]
}