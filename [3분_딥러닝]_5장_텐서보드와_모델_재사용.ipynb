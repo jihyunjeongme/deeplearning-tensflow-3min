{
  "nbformat": 4,
  "nbformat_minor": 0,
  "metadata": {
    "colab": {
      "name": "[3분 딥러닝] 5장 - 텐서보드와 모델 재사용.ipynb",
      "version": "0.3.2",
      "provenance": [],
      "collapsed_sections": [],
      "include_colab_link": true
    },
    "kernelspec": {
      "name": "python3",
      "display_name": "Python 3"
    },
    "accelerator": "GPU"
  },
  "cells": [
    {
      "cell_type": "markdown",
      "metadata": {
        "id": "view-in-github",
        "colab_type": "text"
      },
      "source": [
        "<a href=\"https://colab.research.google.com/github/jihyunjeongme/deeplearning-tensflow-3min/blob/master/%5B3%EB%B6%84_%EB%94%A5%EB%9F%AC%EB%8B%9D%5D_5%EC%9E%A5_%ED%85%90%EC%84%9C%EB%B3%B4%EB%93%9C%EC%99%80_%EB%AA%A8%EB%8D%B8_%EC%9E%AC%EC%82%AC%EC%9A%A9.ipynb\" target=\"_parent\"><img src=\"https://colab.research.google.com/assets/colab-badge.svg\" alt=\"Open In Colab\"/></a>"
      ]
    },
    {
      "cell_type": "markdown",
      "metadata": {
        "id": "znf-IRwrq4qC",
        "colab_type": "text"
      },
      "source": [
        "# 5.1 학습 모델 저장하고 재사용하기"
      ]
    },
    {
      "cell_type": "code",
      "metadata": {
        "id": "1IrO5_8cB4_D",
        "colab_type": "code",
        "outputId": "6a35a0d2-7952-41a5-ddbe-21eb337a2f86",
        "colab": {
          "base_uri": "https://localhost:8080/",
          "height": 54
        }
      },
      "source": [
        "from google.colab import drive\n",
        "\n",
        "drive.mount('/content/gdrive')"
      ],
      "execution_count": 0,
      "outputs": [
        {
          "output_type": "stream",
          "text": [
            "Drive already mounted at /content/gdrive; to attempt to forcibly remount, call drive.mount(\"/content/gdrive\", force_remount=True).\n"
          ],
          "name": "stdout"
        }
      ]
    },
    {
      "cell_type": "code",
      "metadata": {
        "id": "_E5E0l3BCY9N",
        "colab_type": "code",
        "outputId": "9d7d556f-6393-495b-d65e-d5b23ac36213",
        "colab": {
          "base_uri": "https://localhost:8080/",
          "height": 34
        }
      },
      "source": [
        "cd /content/gdrive/My Drive/Colab Notebooks/deeplearning-tensorflow-3mins"
      ],
      "execution_count": 0,
      "outputs": [
        {
          "output_type": "stream",
          "text": [
            "/content/gdrive/My Drive/Colab Notebooks/deeplearning-tensorflow-3mins\n"
          ],
          "name": "stdout"
        }
      ]
    },
    {
      "cell_type": "code",
      "metadata": {
        "id": "AOZqswM3DE0x",
        "colab_type": "code",
        "colab": {}
      },
      "source": [
        "import tensorflow as tf\n",
        "import numpy as np\n",
        "\n",
        "data = np.loadtxt('./data.csv', delimiter=',',\n",
        "                 unpack=True, dtype='float32')\n",
        "\n",
        "x_data = np.transpose(data[0:2])\n",
        "y_data = np.transpose(data[2:])\n"
      ],
      "execution_count": 0,
      "outputs": []
    },
    {
      "cell_type": "code",
      "metadata": {
        "id": "cENNQfojDcC_",
        "colab_type": "code",
        "colab": {}
      },
      "source": [
        "# loadtxt 함수를 이용하여 간단하게 데이터를 읽어들인 후 \n",
        "# 1열과 2열은 x_data로, 3열부터 마지막 열까지는 y_data로 변환하였음."
      ],
      "execution_count": 0,
      "outputs": []
    },
    {
      "cell_type": "code",
      "metadata": {
        "id": "bugClI16DnLZ",
        "colab_type": "code",
        "outputId": "08221865-4188-496a-f903-34c37c39dcc2",
        "colab": {
          "base_uri": "https://localhost:8080/",
          "height": 88
        }
      },
      "source": [
        "# 신경망 모델을 구성할 차례\n",
        "# 학습 횟수를 카운트 하는 변수(학습에 직접 사용되지는 않음)\n",
        "# 변수 정의 시 trainable=False라는 옵션을 줌\n",
        "\n",
        "global_step = tf.Variable(0, trainable=False, name='global_step')\n"
      ],
      "execution_count": 0,
      "outputs": [
        {
          "output_type": "stream",
          "text": [
            "WARNING:tensorflow:From /usr/local/lib/python3.6/dist-packages/tensorflow/python/framework/op_def_library.py:263: colocate_with (from tensorflow.python.framework.ops) is deprecated and will be removed in a future version.\n",
            "Instructions for updating:\n",
            "Colocations handled automatically by placer.\n"
          ],
          "name": "stdout"
        }
      ]
    },
    {
      "cell_type": "code",
      "metadata": {
        "id": "05wjmEjHD9xQ",
        "colab_type": "code",
        "colab": {}
      },
      "source": [
        "# 앞 장에서 보다 계층을 하나 더 늘리고, 편향은 없이 가중치만 사용한 모델로 만들어 봄\n",
        "# 계층은 하나 늘었지만, 모델이 더 간략해졌으니 신경망의 구성이 조금 더 명확하게 드러남\n",
        "\n",
        "X = tf.placeholder(tf.float32)\n",
        "Y = tf.placeholder(tf.float32)\\\n",
        "\n",
        "W1 = tf.Variable(tf.random_uniform([2, 10], -1., 1.))\n",
        "L1 = tf.nn.relu(tf.matmul(X, W1))\n",
        "\n",
        "W2 = tf.Variable(tf.random_uniform([10, 20], -1., 1.))\n",
        "L2 = tf.nn.relu(tf.matmul(L1, W2))\n",
        "\n",
        "W3 = tf.Variable(tf.random_uniform([20, 3], -1., 1.))\n",
        "model = tf.matmul(L2, W3)\n",
        "\n",
        "cost = tf.reduce_mean(\n",
        "tf.nn.softmax_cross_entropy_with_logits_v2(labels=Y,\n",
        "                                          logits=model))\n",
        "\n",
        "optimizer = tf.train.AdamOptimizer(learning_rate=0.01)\n",
        "train_op = optimizer.minimize(cost, global_step=global_step)"
      ],
      "execution_count": 0,
      "outputs": []
    },
    {
      "cell_type": "code",
      "metadata": {
        "id": "4HH_zdm-FOFy",
        "colab_type": "code",
        "colab": {}
      },
      "source": [
        "# 코드를 보면 두 번째 가중치인 W2의 형태가 [10, 20]인것을 볼 수있음.\n",
        "# 이유는 앞단 계층의 출력 크기가 10이고, 뒷단 계층의 입력 크기가 20이기 때문\n",
        "# global_step 매개변수에 앞서 정의한 global_step변수를 넘겨준 것을 확인\n",
        "# 이렇게 하면 최적화 함수가 학습용 변수들을 최적화 할때마다\n",
        "# global_step 변수의 값을 1씩 증가시키게 됨"
      ],
      "execution_count": 0,
      "outputs": []
    },
    {
      "cell_type": "code",
      "metadata": {
        "id": "Nm_pZDAYF8OB",
        "colab_type": "code",
        "colab": {}
      },
      "source": [
        "# 모델 구성 끝\n",
        "# 세션을 열고 최적화를 실행\n",
        "# 모델을 불러들이고 저장하는 코드\n",
        "\n",
        "########\n",
        "# 신경망 모델 학습\n",
        "#######\n",
        "\n",
        "sess = tf.Session()\n",
        "saver = tf.train.Saver(tf.global_variables())"
      ],
      "execution_count": 0,
      "outputs": []
    },
    {
      "cell_type": "code",
      "metadata": {
        "id": "glHEHZq1GFKy",
        "colab_type": "code",
        "colab": {}
      },
      "source": [
        "# tf.global_variables는 앞서 정의한 변수들을 가져오는 함수\n",
        "# 이 함수를 써서 앞서 정의한 변수들을 모두 가져와서, 이후 변수들을 파일에 저장하거나\n",
        "# 이전에 학습한 결과를 불러와 담는 변수들로 사용"
      ],
      "execution_count": 0,
      "outputs": []
    },
    {
      "cell_type": "code",
      "metadata": {
        "id": "LNsa8xK_GVps",
        "colab_type": "code",
        "colab": {}
      },
      "source": [
        "# ./model 디렉터리에 기존에 학습해둔 모델이 있는지를 확인해서 \n",
        "# 모델이 있다면 saver.restore 함수를 사용해 학습된 값들을 불러오고,\n",
        "# 아니면 변수를 새로 초기화\n",
        "# 학습된 모델을 저장한 파일을 체크포인트 파일 이라고 함\n",
        "\n",
        "ckpt = tf.train.get_checkpoint_state('./model')\n",
        "if ckpt and tf.train.checkpoint_exists(ckpt.model_checkpoint_path):\n",
        "  saver.restore(sess, ckpt.model_checkpoint_path)\n",
        "else:\n",
        "  sess.run(tf.global_variables_initializer())\n",
        "  "
      ],
      "execution_count": 0,
      "outputs": []
    },
    {
      "cell_type": "code",
      "metadata": {
        "id": "DzZUzkdGj_B9",
        "colab_type": "code",
        "outputId": "272d2294-f19c-4690-bc71-2caead2b038a",
        "colab": {
          "base_uri": "https://localhost:8080/",
          "height": 51
        }
      },
      "source": [
        "# 최적화 수행\n",
        "# 이전과는 달리 step 값이 아니라 global_step 값을 이용해 \n",
        "# 학습을 몇 번째 진행하고 있는지를 출력\n",
        "# global_step은 텐서 타입의 변수이므로 값을 가져 올 때 sess.run(global_step)을 이용\n",
        "\n",
        "for step in range(2):\n",
        "  sess.run(train_op, feed_dict={X: x_data, Y:y_data})\n",
        "  \n",
        "  print('Step: %d, ' % sess.run(global_step),\n",
        "        'Cost: %.3f' % sess.run(cost, feed_dict={X: x_data, Y: y_data}))\n",
        "  "
      ],
      "execution_count": 0,
      "outputs": [
        {
          "output_type": "stream",
          "text": [
            "Step: 1,  Cost: 1.220\n",
            "Step: 2,  Cost: 1.151\n"
          ],
          "name": "stdout"
        }
      ]
    },
    {
      "cell_type": "code",
      "metadata": {
        "id": "pNa2G2R-kvPA",
        "colab_type": "code",
        "outputId": "454c5219-1591-44f1-b5df-e101ca5cc951",
        "colab": {
          "base_uri": "https://localhost:8080/",
          "height": 34
        }
      },
      "source": [
        "# 마지막으로 최적화가 끝난 뒤 학습된 변수들을 지정한 체크포인트 파일에 저장\n",
        "# 두 번쨰 매개변수는 체크포인트 파일의 위치와 이름\n",
        "# global_step의 값은 저장할 파일의 이름을 추가로 붙게 되며\n",
        "# 텐서 변수 또는 숫자값을 넣어줄 수 있습니다.\n",
        "# 이를 이용해 여러 상태의 체크포인트를 만들 수 있고, 가장 효과적인 체크포인트를 선별,사용\n",
        "\n",
        "\n",
        "saver.save(sess, './model/dnn.ckpt', global_step=global_step)"
      ],
      "execution_count": 0,
      "outputs": [
        {
          "output_type": "execute_result",
          "data": {
            "text/plain": [
              "'./model/dnn.ckpt-2'"
            ]
          },
          "metadata": {
            "tags": []
          },
          "execution_count": 12
        }
      ]
    },
    {
      "cell_type": "code",
      "metadata": {
        "id": "03JtILdqmNYX",
        "colab_type": "code",
        "outputId": "34c80ff9-32a2-4670-c385-f50629c8bf30",
        "colab": {
          "base_uri": "https://localhost:8080/",
          "height": 68
        }
      },
      "source": [
        "# 예측 결과와 정확도 확인\n",
        "\n",
        "prediction = tf.argmax(model, 1)\n",
        "target = tf.argmax(Y, 1)\n",
        "print('예측값:', sess.run(prediction, feed_dict={X: x_data}))\n",
        "print('실제값:', sess.run(target, feed_dict={Y: y_data}))\n",
        "\n",
        "is_correct = tf.equal(prediction, target)\n",
        "accuracy = tf.equal(prediction, target)\n",
        "accuracy = tf.reduce_mean(tf.cast(is_correct, tf.float32))\n",
        "print('정확도: %.2f' % sess.run(accuracy * 100, feed_dict={X: x_data,\n",
        "                                                       Y: y_data}))"
      ],
      "execution_count": 0,
      "outputs": [
        {
          "output_type": "stream",
          "text": [
            "예측값: [0 1 1 0 0 1]\n",
            "실제값: [0 1 2 0 0 2]\n",
            "정확도: 66.67\n"
          ],
          "name": "stdout"
        }
      ]
    },
    {
      "cell_type": "code",
      "metadata": {
        "id": "sO_kEVq_ny84",
        "colab_type": "code",
        "colab": {}
      },
      "source": [
        "# 총 10번을 실했해을 때 정확도가 100.00으로 나옴\n",
        "# gobal_step으로 저장한 값을 불러와서 증가시키면 step이 늘어남\n",
        "# 텐서플로를 이용하면 이렇게 쉽게 학습시킨 모델을 저장하고 불러와서\n",
        "# 재사용 할수 있음.\n",
        "# 이 방식을 이용해 모델 구성, 학습, 예측 부분을 각각 분리하여 학습을 따로 한 뒤\n",
        "# 예측만 단독으로 실행하는 프로그램을 작성할 수 있음"
      ],
      "execution_count": 0,
      "outputs": []
    },
    {
      "cell_type": "markdown",
      "metadata": {
        "id": "8yFdWcCKq0LI",
        "colab_type": "text"
      },
      "source": [
        "# 5.2 텐서보드 사용하기"
      ]
    },
    {
      "cell_type": "code",
      "metadata": {
        "id": "30yOzb6ZyhOD",
        "colab_type": "code",
        "colab": {}
      },
      "source": [
        ""
      ],
      "execution_count": 0,
      "outputs": []
    }
  ]
}