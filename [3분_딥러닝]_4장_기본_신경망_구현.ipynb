{
  "nbformat": 4,
  "nbformat_minor": 0,
  "metadata": {
    "colab": {
      "name": "[3분 딥러닝] 4장 - 기본 신경망 구현.ipynb",
      "version": "0.3.2",
      "provenance": [],
      "collapsed_sections": [],
      "include_colab_link": true
    },
    "kernelspec": {
      "name": "python3",
      "display_name": "Python 3"
    },
    "accelerator": "GPU"
  },
  "cells": [
    {
      "cell_type": "markdown",
      "metadata": {
        "id": "view-in-github",
        "colab_type": "text"
      },
      "source": [
        "<a href=\"https://colab.research.google.com/github/jihyunjeongme/deeplearning-tensflow-3min/blob/master/%5B3%EB%B6%84_%EB%94%A5%EB%9F%AC%EB%8B%9D%5D_4%EC%9E%A5_%EA%B8%B0%EB%B3%B8_%EC%8B%A0%EA%B2%BD%EB%A7%9D_%EA%B5%AC%ED%98%84.ipynb\" target=\"_parent\"><img src=\"https://colab.research.google.com/assets/colab-badge.svg\" alt=\"Open In Colab\"/></a>"
      ]
    },
    {
      "cell_type": "code",
      "metadata": {
        "id": "sKzrhwsWh50t",
        "colab_type": "code",
        "colab": {}
      },
      "source": [
        "# 포유류와 조류를 구분하는 신경망 모델\n",
        "# 털과 날개의 유무를 바탕으로\n",
        "\n",
        "import tensorflow as tf\n",
        "import numpy as np"
      ],
      "execution_count": 0,
      "outputs": []
    },
    {
      "cell_type": "code",
      "metadata": {
        "id": "kR7v702TiLTP",
        "colab_type": "code",
        "colab": {}
      },
      "source": [
        "# 학습에 사용할 데이터 정의\n",
        "# 털과 날개가 있느냐를 담은 특징 데이터 구성\n",
        "# 있으면 1, 없으면 0\n",
        "\n",
        "# [털, 날개]\n",
        "x_data = np.array(\n",
        "[[0,0], [1,0], [1,1], [0,0], [0,0], [0,1]])"
      ],
      "execution_count": 0,
      "outputs": []
    },
    {
      "cell_type": "code",
      "metadata": {
        "id": "DwHsNwSWigHx",
        "colab_type": "code",
        "colab": {}
      },
      "source": [
        "# 각 개체가 실제 어떤 종류인지를 나타내는 레이블(분류값)데이터를 구성합니다.\n",
        "# 즉, 포유류인지 조류인지, 아니면 제3의 종류인지를 기록한 실제 결괏괎"
      ],
      "execution_count": 0,
      "outputs": []
    },
    {
      "cell_type": "code",
      "metadata": {
        "id": "X6JaJmzWi8Hl",
        "colab_type": "code",
        "colab": {}
      },
      "source": [
        "# 레이블 데이터는 원-핫 인코딩\n",
        "# 원-핫 인코딩: 데이터가 가질 수 있는 값들을 일렬로 나열한 배열을 만들고,\n",
        "# 그중 표현하려는 값을 뜻하는 인덱스의 원소만 1로 표기하고 나머지 원소는 모두 0\n",
        "# 으로 채우는 표기법"
      ],
      "execution_count": 0,
      "outputs": []
    },
    {
      "cell_type": "code",
      "metadata": {
        "id": "Fq1G40W_jJYc",
        "colab_type": "code",
        "colab": {}
      },
      "source": [
        "# 각 종류의 인덱스는 기타=0, 포유류=1, 조류=2\n",
        "# 원-핫 인코딩 형식으로 만들면\n",
        "# 기타 =  [1,0,0]\n",
        "# 포유류 = [0,1,0]\n",
        "# 조류 =  [0,0,1]"
      ],
      "execution_count": 0,
      "outputs": []
    },
    {
      "cell_type": "code",
      "metadata": {
        "id": "L4NBGmlWjb0L",
        "colab_type": "code",
        "colab": {}
      },
      "source": [
        "# 이를 특징 데이터와 연관 지어 레이블 데이터로 구성하면 다음처럼 만들 수 있음.\n",
        "y_data = np.array([\n",
        "    [1,0,0],  # 기타\n",
        "    [0,1,0],  # 포유류\n",
        "    [0,0,1],  # 조류\n",
        "    [1,0,0],\n",
        "    [1,0,0],\n",
        "    [0,0,1]\n",
        "])"
      ],
      "execution_count": 0,
      "outputs": []
    },
    {
      "cell_type": "code",
      "metadata": {
        "id": "alUyRd7VjuR8",
        "colab_type": "code",
        "colab": {}
      },
      "source": [
        "# 이렇게 구상한 특징 데이터와 레이블 데이터는 다음과 같은 연관 관계를 갖게 됩니다.\n",
        "# [털, 날개] -> [기타, 포유류, 조류]\n",
        "# [0,0] ->    [1,0,0],  # 기타\n",
        "# [1,0] ->    [0,1,0],  # 포유류\n",
        "# [1,1] ->    [0,0,1],  # 조류\n",
        "# [0,0] ->    [1,0,0],  # 기타\n",
        "# [0,0] ->    [1,0,0],  # 기타\n",
        "# [0,1] ->    [0,0,1]   # 조류\n",
        "\n",
        "# 위와 같이 학습 데이터의 정의 완료"
      ],
      "execution_count": 0,
      "outputs": []
    },
    {
      "cell_type": "code",
      "metadata": {
        "id": "I7IDIUiwqqJh",
        "colab_type": "code",
        "colab": {}
      },
      "source": [
        "# 신경말 모델을 구성\n",
        "# 특징 X와 레이블 Y와의 관계를 알아내는 모델\n",
        "# X와 Y에 실측값을 넣어서 학습시킬 것이니 \n",
        "# X와 Y는 플레이스홀더로 설정\n",
        "\n",
        "X = tf.placeholder(tf.float32)\n",
        "Y = tf.placeholder(tf.float32)"
      ],
      "execution_count": 0,
      "outputs": []
    },
    {
      "cell_type": "code",
      "metadata": {
        "id": "zljyv9wqq8ri",
        "colab_type": "code",
        "colab": {}
      },
      "source": [
        "# 가중치와 편향 변수 설정\n",
        "# 신경망은 이 변수들의 값을 여러 가지고 바꿔가면서 X와 Y의 연관 관계를 학습하게 됨\n",
        "\n",
        "W = tf.Variable(tf.random_uniform([2, 3], -1., 1.))\n",
        "b = tf.Variable(tf.zeros([3]))"
      ],
      "execution_count": 0,
      "outputs": []
    },
    {
      "cell_type": "code",
      "metadata": {
        "id": "-CJZGBX_rNKI",
        "colab_type": "code",
        "colab": {}
      },
      "source": [
        "# 가중치 변수 W는 [입력층(특징 수), 출력층(레이블 수)]의 구성인 [2,3]으로 설정\n",
        "# 편향 변수 b는 레이블 수인 3개의 요소를 가진 변수로 설정\n"
      ],
      "execution_count": 0,
      "outputs": []
    },
    {
      "cell_type": "code",
      "metadata": {
        "id": "NJBxbafZrow8",
        "colab_type": "code",
        "colab": {}
      },
      "source": [
        "# 이 가중치를 곱하고 편향을 더한 결과를 활성화 함수인 ReLU에 적용하면 신경망 구성은 끝\n",
        "\n",
        "L = tf.add(tf.matmul(X,W),b)\n",
        "L = tf.nn.relu(L)"
      ],
      "execution_count": 0,
      "outputs": []
    },
    {
      "cell_type": "code",
      "metadata": {
        "id": "zOFCAQVJrthw",
        "colab_type": "code",
        "colab": {}
      },
      "source": [
        "# 뒤에 손실값을 구하는 부분이 남긴 햇지만, 신경망을 구성하는 것은 이게 끝"
      ],
      "execution_count": 0,
      "outputs": []
    },
    {
      "cell_type": "code",
      "metadata": {
        "id": "9cHdhjgCsBd0",
        "colab_type": "code",
        "colab": {}
      },
      "source": [
        "# 신경망을 통해 나온 출력값을 softmax 함수를 이용하여 사용하기 쉽게 다듬어줌\n",
        "# softmax 함수는 다음처럼 배열 내의 결괏값들을 전체 합이 1이 되도록 만들어 줌\n",
        "\n",
        "model = tf.nn.softmax(L)"
      ],
      "execution_count": 0,
      "outputs": []
    },
    {
      "cell_type": "code",
      "metadata": {
        "id": "gNAhRPlGsLJW",
        "colab_type": "code",
        "colab": {}
      },
      "source": [
        "# 손실 함수(비용함수) 작성\n",
        "# 손실 함수(비용함수)는 원-핫 인코딩을 이용한 대부분의 모델에서 사용하는 \n",
        "# 교차 엔트로피 함수 사용\n",
        "# 교차 엔트로피 값: 예측값과 실제값 사이의 확률 분포 차이를 계산한 값\n",
        "\n",
        "# 기본코드는 아래와 같음\n",
        "cost = tf.reduce_mean(-tf.reduce_sum(Y * tf.log(model), axis=1))"
      ],
      "execution_count": 0,
      "outputs": []
    },
    {
      "cell_type": "code",
      "metadata": {
        "id": "C-Uo80Wcst-6",
        "colab_type": "code",
        "colab": {}
      },
      "source": [
        "# reduce_xxx 함수들은 텐서의 차원을 줄여줍니다.\n",
        "# 함수 이름의 xxx 부분이 구체적인 차원 축소 방법을 뜻하고\n",
        "# axis 매개변수로 축소할 차원을 정함\n",
        "# Ex) reduce_sum(입력 텐서), axis=1) 주어진 텐서의 1번째 차원의 값들을 다 더해\n",
        "# (값 1개로 만들어서) 그 차원을 없앤다는 뜻"
      ],
      "execution_count": 0,
      "outputs": []
    },
    {
      "cell_type": "code",
      "metadata": {
        "id": "Q8z_KaKqtk7-",
        "colab_type": "code",
        "colab": {
          "base_uri": "https://localhost:8080/",
          "height": 527
        },
        "outputId": "924e9116-4c76-4852-c53c-192a4ab33cba"
      },
      "source": [
        "# 이제 학습 시켜보겠습니다.\n",
        "# 텐서플로가 기본 제공하는 최적화 함수를 사용\n",
        "\n",
        "# 기본적인 경사하강법으로 최적화\n",
        "optimizer = tf.train.GradientDescentOptimizer(learning_rate=0.01)\n",
        "train_op = optimizer.minimize(cost)\n",
        "\n",
        "# 텐서플로의 세션을 초기화 합니다.\n",
        "init = tf.global_variables_initializer()\n",
        "sess = tf.Session()\n",
        "sess.run(init)\n",
        "\n",
        "# 앞서 구성한 특징과 레이블 데이터를 이용해 학습을 100번 진행합니다.\n",
        "for step in range(300):\n",
        "  sess.run(train_op, feed_dict={X: x_data, Y: y_data})\n",
        "  \n",
        "  # 학습 도중 10번에 한 번씩 손실값을 출력해봅니다.\n",
        "  if (step + 1) % 10 == 0:\n",
        "    print(step + 1, sess.run(cost, feed_dict={X: x_data, Y: y_data}))"
      ],
      "execution_count": 34,
      "outputs": [
        {
          "output_type": "stream",
          "text": [
            "10 1.1014748\n",
            "20 1.0990072\n",
            "30 1.0966069\n",
            "40 1.0942702\n",
            "50 1.0919948\n",
            "60 1.0897778\n",
            "70 1.0876169\n",
            "80 1.0855094\n",
            "90 1.0835091\n",
            "100 1.0828627\n",
            "110 1.0822195\n",
            "120 1.0815793\n",
            "130 1.0809423\n",
            "140 1.0803083\n",
            "150 1.0796775\n",
            "160 1.0790493\n",
            "170 1.0784243\n",
            "180 1.0778021\n",
            "190 1.0771829\n",
            "200 1.0765663\n",
            "210 1.0759526\n",
            "220 1.0753417\n",
            "230 1.0747335\n",
            "240 1.074128\n",
            "250 1.0735253\n",
            "260 1.0729251\n",
            "270 1.0723275\n",
            "280 1.0717325\n",
            "290 1.0711402\n",
            "300 1.0705503\n"
          ],
          "name": "stdout"
        }
      ]
    },
    {
      "cell_type": "code",
      "metadata": {
        "id": "m5pT78AdumTS",
        "colab_type": "code",
        "colab": {
          "base_uri": "https://localhost:8080/",
          "height": 51
        },
        "outputId": "19b3859f-9785-49d0-d8d2-525f66455a6e"
      },
      "source": [
        "# 학습된 결과를 확인 해보는 코드 작성\n",
        "# 예측값인 model을 바로 출력하면 [0.2 0.7 0.1]과 같이 확률로 나오기 때문에\n",
        "# 요소 중 가장 큰 값의 인덱스를 찾아주는 argmax 함수를 사용하여 레이블 값 출력\n",
        "\n",
        "prediction = tf.argmax(model, axis=1)\n",
        "target = tf.argmax(Y, axis=1)\n",
        "print('예측값:', sess.run(prediction, feed_dict={X: x_data}))\n",
        "print('실제값:', sess.run(target, feed_dict={Y: y_data}))"
      ],
      "execution_count": 35,
      "outputs": [
        {
          "output_type": "stream",
          "text": [
            "예측값: [0 1 1 0 0 0]\n",
            "실제값: [0 1 2 0 0 2]\n"
          ],
          "name": "stdout"
        }
      ]
    },
    {
      "cell_type": "code",
      "metadata": {
        "id": "otzcdtNIvlOx",
        "colab_type": "code",
        "colab": {
          "base_uri": "https://localhost:8080/",
          "height": 34
        },
        "outputId": "67e518b4-d53c-4439-d983-6c8b8bcf120f"
      },
      "source": [
        "# 정확도 출력\n",
        "# 전체 학습 데이터에 대한 예측값과 실측값을 tf.equal함수로 비교 한 뒤\n",
        "# true/false 값으로 나온 결과를 다시 tf.cast 함수를 이용해 0과1로 바꾸어\n",
        "# 평균을 내면 아래와 같이 간단한 정확도를 구할 수 있음.\n",
        "\n",
        "is_correct = tf.equal(prediction, target)\n",
        "accuracy = tf.reduce_mean(tf.cast(is_correct, tf.float32))\n",
        "print('정확도: %.2f' % sess.run(accuracy * 100, feed_dict={X: x_data,\n",
        "                                                       Y: y_data}))"
      ],
      "execution_count": 36,
      "outputs": [
        {
          "output_type": "stream",
          "text": [
            "정확도: 66.67\n"
          ],
          "name": "stdout"
        }
      ]
    },
    {
      "cell_type": "code",
      "metadata": {
        "id": "HcqHB9FSwKKH",
        "colab_type": "code",
        "colab": {}
      },
      "source": [
        "# 학습 횟수를 아무리 늘려도 정확도가 크게 높아지지 않음.\n",
        "# 그 이유는 신경망이 한 층 밖에 안되기 때문, 층 하나만 더 늘리면 쉽게 해결됨"
      ],
      "execution_count": 0,
      "outputs": []
    },
    {
      "cell_type": "code",
      "metadata": {
        "id": "Z2QsIyPDwseZ",
        "colab_type": "code",
        "colab": {}
      },
      "source": [
        "# 4.3 심층 신경망 구현하기"
      ],
      "execution_count": 0,
      "outputs": []
    },
    {
      "cell_type": "code",
      "metadata": {
        "id": "Hqxlya8qxD66",
        "colab_type": "code",
        "colab": {}
      },
      "source": [
        "# 다층 신경망을 만드는 것은 매우 간단합니다.\n",
        "# 앞서 만든 신경망 모델에 가중치와 편향을 추가하기만 하면 됩니다.\n",
        "\n",
        "# 가중치 [2,10]\n",
        "W1 = tf.Variable(tf.random_uniform([2, 10], -1., 1.))\n",
        "\n",
        "# 가중치 [10,3]\n",
        "W2 = tf.Variable(tf.random_uniform([10, 3], -1., 1.))\n",
        "\n",
        "# 편향 10\n",
        "b1 = tf.Variable(tf.zeros([10]))\n",
        "\n",
        "# 편향 3\n",
        "b2 = tf.Variable(tf.zeros([3]))"
      ],
      "execution_count": 0,
      "outputs": []
    },
    {
      "cell_type": "code",
      "metadata": {
        "id": "1npOk9Yl9hAT",
        "colab_type": "code",
        "colab": {}
      },
      "source": [
        "# 그 의미는 아래와 같습니다.\n",
        "\n",
        "# 가중치\n",
        "# W1 = [2,10] -> [특징, 은닉층의 뉴런 수]\n",
        "# W2 = [10,3] -> [은닉층의 뉴런수, 분류 수]\n",
        "\n",
        "# 편향\n",
        "# b1 = [10] -> 은닉층의 뉴런수\n",
        "# b2 = [3] -> 분류수"
      ],
      "execution_count": 0,
      "outputs": []
    },
    {
      "cell_type": "code",
      "metadata": {
        "id": "4KrFCOAM-Buh",
        "colab_type": "code",
        "colab": {}
      },
      "source": [
        "# 위와 같이, 입력층과 출력층은 각각 특징과 분류 개수로 맞추고,\n",
        "# 중간의 연결 부분은 맞닿은 층의 뉴런 수와 같도록 맞추면 됩니다.\n",
        "# 중간의 연결 부분을 은닉층 이라하며\n",
        "# 은닉층의 뉴런 수는 하이퍼파라미터이니 실험을 통해 가장 적절한 수를 정하면 됨"
      ],
      "execution_count": 0,
      "outputs": []
    },
    {
      "cell_type": "code",
      "metadata": {
        "id": "0Fc1wPk9-Sgj",
        "colab_type": "code",
        "colab": {}
      },
      "source": [
        "# 앞절과 마찬가지로 특정 입력값에 첫 번째 가중치와 편향, 그리고 활성화 함수 적용\n",
        "\n",
        "# 이 가중치를 곱하고 편향을 더한 결과를 활성화 함수인 ReLU에 적용하면 신경망 구성은 끝\n",
        "\n",
        "L1 = tf.add(tf.matmul(X,W1),b1)\n",
        "L1 = tf.nn.relu(L1)"
      ],
      "execution_count": 0,
      "outputs": []
    },
    {
      "cell_type": "code",
      "metadata": {
        "id": "ZFs3qI4O-hWe",
        "colab_type": "code",
        "colab": {}
      },
      "source": [
        "# 출력층을 만들기 위해 두 번째 가중치와 편향적용 최종 모델 만듬\n",
        "# 은닉층에 두 번째 가중치 W2[10,3]와 편향 b2[3]을 적용하면\n",
        "# 최종적으로 3개의 출력 값을 가지게 됨\n",
        "\n",
        "model = tf.add(tf.matmul(L1, W2), b2)"
      ],
      "execution_count": 0,
      "outputs": []
    },
    {
      "cell_type": "code",
      "metadata": {
        "id": "SXdEHsEp-56I",
        "colab_type": "code",
        "colab": {}
      },
      "source": [
        "# 손실함수 작성\n",
        "# 텐서플로가 기본 제공하는 교차 엔트로피 함수 이용\n",
        "\n",
        "cost = tf.reduce_mean(\n",
        "tf.nn.softmax_cross_entropy_with_logits_v2(labels=Y,\n",
        "                                          logits=model))\n",
        "\n",
        "optimizer = tf.train.AdamOptimizer(learning_rate=0.01)\n",
        "train_op = optimizer.minimize(cost)"
      ],
      "execution_count": 0,
      "outputs": []
    },
    {
      "cell_type": "code",
      "metadata": {
        "id": "6CuL_caI_Xao",
        "colab_type": "code",
        "colab": {}
      },
      "source": [
        "# 최적화 함수로 AdamOptimizer 사용\n",
        "# 사용하는 최적화 함수에 따라 정확도나 학습 속도가 많이 달라질 수 있음.\n",
        "# AdamOptimizer는 앞서 사용한 GradientDescentOptimizer보다 보편적으로\n",
        "# 성능이 좋다고 알려져 있음.(하지만 모든 경우에 좋은건 아님)"
      ],
      "execution_count": 0,
      "outputs": []
    },
    {
      "cell_type": "code",
      "metadata": {
        "id": "VKHeWCL7_61V",
        "colab_type": "code",
        "colab": {
          "base_uri": "https://localhost:8080/",
          "height": 187
        },
        "outputId": "92bf0d1f-6559-49aa-e672-a85269752a17"
      },
      "source": [
        "# 텐서플로의 세션을 초기화 합니다.\n",
        "init = tf.global_variables_initializer()\n",
        "sess = tf.Session()\n",
        "sess.run(init)\n",
        "\n",
        "# 앞서 구성한 특징과 레이블 데이터를 이용해 학습을 100번 진행합니다.\n",
        "for step in range(100):\n",
        "  sess.run(train_op, feed_dict={X: x_data, Y: y_data})\n",
        "  \n",
        "  # 학습 도중 10번에 한 번씩 손실값을 출력해봅니다.\n",
        "  if (step + 1) % 10 == 0:\n",
        "    print(step + 1, sess.run(cost, feed_dict={X: x_data, Y: y_data}))"
      ],
      "execution_count": 50,
      "outputs": [
        {
          "output_type": "stream",
          "text": [
            "10 0.7152521\n",
            "20 0.54497916\n",
            "30 0.4173412\n",
            "40 0.31834006\n",
            "50 0.24135502\n",
            "60 0.18144572\n",
            "70 0.13590573\n",
            "80 0.10134351\n",
            "90 0.072951585\n",
            "100 0.05341724\n"
          ],
          "name": "stdout"
        }
      ]
    },
    {
      "cell_type": "code",
      "metadata": {
        "id": "CpTDhrSo_-w-",
        "colab_type": "code",
        "colab": {
          "base_uri": "https://localhost:8080/",
          "height": 51
        },
        "outputId": "5aebb094-672e-4a91-ec44-3d90b343fbac"
      },
      "source": [
        "# 학습된 결과를 확인 해보는 코드 작성\n",
        "# 예측값인 model을 바로 출력하면 [0.2 0.7 0.1]과 같이 확률로 나오기 때문에\n",
        "# 요소 중 가장 큰 값의 인덱스를 찾아주는 argmax 함수를 사용하여 레이블 값 출력\n",
        "\n",
        "prediction = tf.argmax(model, axis=1)\n",
        "target = tf.argmax(Y, axis=1)\n",
        "print('예측값:', sess.run(prediction, feed_dict={X: x_data}))\n",
        "print('실제값:', sess.run(target, feed_dict={Y: y_data}))"
      ],
      "execution_count": 51,
      "outputs": [
        {
          "output_type": "stream",
          "text": [
            "예측값: [0 1 2 0 0 2]\n",
            "실제값: [0 1 2 0 0 2]\n"
          ],
          "name": "stdout"
        }
      ]
    },
    {
      "cell_type": "code",
      "metadata": {
        "id": "tyHiiGR9AKbJ",
        "colab_type": "code",
        "colab": {
          "base_uri": "https://localhost:8080/",
          "height": 34
        },
        "outputId": "d1fdf191-022a-4d59-cd11-9489c65207bd"
      },
      "source": [
        "# 정확도 출력\n",
        "# 전체 학습 데이터에 대한 예측값과 실측값을 tf.equal함수로 비교 한 뒤\n",
        "# true/false 값으로 나온 결과를 다시 tf.cast 함수를 이용해 0과1로 바꾸어\n",
        "# 평균을 내면 아래와 같이 간단한 정확도를 구할 수 있음.\n",
        "\n",
        "is_correct = tf.equal(prediction, target)\n",
        "accuracy = tf.reduce_mean(tf.cast(is_correct, tf.float32))\n",
        "print('정확도: %.2f' % sess.run(accuracy * 100, feed_dict={X: x_data,\n",
        "                                                       Y: y_data}))"
      ],
      "execution_count": 52,
      "outputs": [
        {
          "output_type": "stream",
          "text": [
            "정확도: 100.00\n"
          ],
          "name": "stdout"
        }
      ]
    },
    {
      "cell_type": "code",
      "metadata": {
        "id": "IGUrWNeZANQ2",
        "colab_type": "code",
        "colab": {}
      },
      "source": [
        ""
      ],
      "execution_count": 0,
      "outputs": []
    }
  ]
}