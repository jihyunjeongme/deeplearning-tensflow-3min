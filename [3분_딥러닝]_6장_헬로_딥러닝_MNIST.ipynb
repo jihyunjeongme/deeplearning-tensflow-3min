{
  "nbformat": 4,
  "nbformat_minor": 0,
  "metadata": {
    "colab": {
      "name": "[3분 딥러닝] 6장 - 헬로 딥러닝 MNIST.ipynb",
      "version": "0.3.2",
      "provenance": [],
      "collapsed_sections": [],
      "include_colab_link": true
    },
    "kernelspec": {
      "name": "python3",
      "display_name": "Python 3"
    },
    "accelerator": "GPU"
  },
  "cells": [
    {
      "cell_type": "markdown",
      "metadata": {
        "id": "view-in-github",
        "colab_type": "text"
      },
      "source": [
        "<a href=\"https://colab.research.google.com/github/jihyunjeongme/deeplearning-tensflow-3min/blob/master/%5B3%EB%B6%84_%EB%94%A5%EB%9F%AC%EB%8B%9D%5D_6%EC%9E%A5_%ED%97%AC%EB%A1%9C_%EB%94%A5%EB%9F%AC%EB%8B%9D_MNIST.ipynb\" target=\"_parent\"><img src=\"https://colab.research.google.com/assets/colab-badge.svg\" alt=\"Open In Colab\"/></a>"
      ]
    },
    {
      "cell_type": "code",
      "metadata": {
        "id": "COzi9DG_XU8V",
        "colab_type": "code",
        "outputId": "1d049ee4-844d-4d95-d8bf-8c0f76fc10fa",
        "colab": {
          "base_uri": "https://localhost:8080/",
          "height": 530
        }
      },
      "source": [
        "import tensorflow as tf\n",
        "\n",
        "from tensorflow.examples.tutorials.mnist import input_data\n",
        "mnist = input_data.read_data_sets(\"./mnist/data/\",one_hot=True)"
      ],
      "execution_count": 2,
      "outputs": [
        {
          "output_type": "stream",
          "text": [
            "WARNING:tensorflow:From <ipython-input-2-799a0b5c634d>:4: read_data_sets (from tensorflow.contrib.learn.python.learn.datasets.mnist) is deprecated and will be removed in a future version.\n",
            "Instructions for updating:\n",
            "Please use alternatives such as official/mnist/dataset.py from tensorflow/models.\n",
            "WARNING:tensorflow:From /usr/local/lib/python3.6/dist-packages/tensorflow/contrib/learn/python/learn/datasets/mnist.py:260: maybe_download (from tensorflow.contrib.learn.python.learn.datasets.base) is deprecated and will be removed in a future version.\n",
            "Instructions for updating:\n",
            "Please write your own downloading logic.\n",
            "WARNING:tensorflow:From /usr/local/lib/python3.6/dist-packages/tensorflow/contrib/learn/python/learn/datasets/base.py:252: _internal_retry.<locals>.wrap.<locals>.wrapped_fn (from tensorflow.contrib.learn.python.learn.datasets.base) is deprecated and will be removed in a future version.\n",
            "Instructions for updating:\n",
            "Please use urllib or similar directly.\n",
            "Successfully downloaded train-images-idx3-ubyte.gz 9912422 bytes.\n",
            "WARNING:tensorflow:From /usr/local/lib/python3.6/dist-packages/tensorflow/contrib/learn/python/learn/datasets/mnist.py:262: extract_images (from tensorflow.contrib.learn.python.learn.datasets.mnist) is deprecated and will be removed in a future version.\n",
            "Instructions for updating:\n",
            "Please use tf.data to implement this functionality.\n",
            "Extracting ./mnist/data/train-images-idx3-ubyte.gz\n",
            "Successfully downloaded train-labels-idx1-ubyte.gz 28881 bytes.\n",
            "WARNING:tensorflow:From /usr/local/lib/python3.6/dist-packages/tensorflow/contrib/learn/python/learn/datasets/mnist.py:267: extract_labels (from tensorflow.contrib.learn.python.learn.datasets.mnist) is deprecated and will be removed in a future version.\n",
            "Instructions for updating:\n",
            "Please use tf.data to implement this functionality.\n",
            "Extracting ./mnist/data/train-labels-idx1-ubyte.gz\n",
            "WARNING:tensorflow:From /usr/local/lib/python3.6/dist-packages/tensorflow/contrib/learn/python/learn/datasets/mnist.py:110: dense_to_one_hot (from tensorflow.contrib.learn.python.learn.datasets.mnist) is deprecated and will be removed in a future version.\n",
            "Instructions for updating:\n",
            "Please use tf.one_hot on tensors.\n",
            "Successfully downloaded t10k-images-idx3-ubyte.gz 1648877 bytes.\n",
            "Extracting ./mnist/data/t10k-images-idx3-ubyte.gz\n",
            "Successfully downloaded t10k-labels-idx1-ubyte.gz 4542 bytes.\n",
            "Extracting ./mnist/data/t10k-labels-idx1-ubyte.gz\n",
            "WARNING:tensorflow:From /usr/local/lib/python3.6/dist-packages/tensorflow/contrib/learn/python/learn/datasets/mnist.py:290: DataSet.__init__ (from tensorflow.contrib.learn.python.learn.datasets.mnist) is deprecated and will be removed in a future version.\n",
            "Instructions for updating:\n",
            "Please use alternatives such as official/mnist/dataset.py from tensorflow/models.\n"
          ],
          "name": "stdout"
        }
      ]
    },
    {
      "cell_type": "code",
      "metadata": {
        "id": "e2bXFWqhYLxW",
        "colab_type": "code",
        "colab": {}
      },
      "source": [
        "# MNIST의 손글씨 이미지는 28 x 28픽셀\n",
        "# 784개의 특징으로 이루어져 있음.\n",
        "# 레이블은 0부터 9까지 이니 10개의 분류로 나눔\n",
        "# None으로 넣어주면 한 번에 학습할 개수를 계속 바꿔가면서 실험해볼려는 경우 \n",
        "\n",
        "X = tf.placeholder(tf.float32, [None, 784])\n",
        "Y = tf.placeholder(tf.float32, [None, 10])"
      ],
      "execution_count": 0,
      "outputs": []
    },
    {
      "cell_type": "code",
      "metadata": {
        "id": "ho6_BSCyY0Pp",
        "colab_type": "code",
        "outputId": "3b3779b9-37b1-4d55-bd09-b9f85292a7c3",
        "colab": {
          "base_uri": "https://localhost:8080/",
          "height": 88
        }
      },
      "source": [
        "# 784(입력, 특징 개수) -> 256 (첫 번째 은닉층 뉴런 개수) -> 256 (두 번째 은닉층 뉴런 개수)\n",
        "# -> 10 (결괏값 0-9 분류 개수)\n",
        "\n",
        "\n",
        "\n",
        "# tf.matmul 함수를 이용하여 각 계층으로 들어오는 입력값에 각각의 가중치를 곱하고\n",
        "# tf.nn.relu 함수를 이용하여 활성화 함수로 ReLU를 사용하는 신경망 계층을 만듭니다.\n",
        "W1 = tf.Variable(tf.random_normal([784, 256], stddev=0.01))\n",
        "L1 = tf.nn.relu(tf.matmul(X, W1))\n",
        "\n",
        "W2 = tf.Variable(tf.random_normal([256, 256], stddev=0.01))\n",
        "L2 = tf.nn.relu(tf.matmul(L1, W2))\n",
        "\n",
        "# 표준 편차가 0.01인 정규분포를 가지는 임의의 값으로 뉴런(변수)을 초기화시킵니다.\n",
        "W3 = tf.Variable(tf.random_normal([256, 10], stddev=0.01))\n",
        "\n",
        "# 마지막 계층인 model 텐서에 W3 변수를 곱함으로써 요소 10개짜리 배열이 출력됩니다.\n",
        "# 10개의 요소는 0부터 9까지의 숫자를 나타내며, 가장 큰 값을 가진 인덱스가 예측 결과에\n",
        "# 가까운 숫자입니다.\n",
        "# 출력층에는 보통 활성화 함수를 사용하지 않습니다.\n",
        "\n",
        "model = tf.matmul(L2, W3)\n"
      ],
      "execution_count": 4,
      "outputs": [
        {
          "output_type": "stream",
          "text": [
            "WARNING:tensorflow:From /usr/local/lib/python3.6/dist-packages/tensorflow/python/framework/op_def_library.py:263: colocate_with (from tensorflow.python.framework.ops) is deprecated and will be removed in a future version.\n",
            "Instructions for updating:\n",
            "Colocations handled automatically by placer.\n"
          ],
          "name": "stdout"
        }
      ]
    },
    {
      "cell_type": "code",
      "metadata": {
        "id": "MHj03-MIdXFx",
        "colab_type": "code",
        "colab": {}
      },
      "source": [
        "# tf.nn.softmax_cross_entroypy_with_logits_v2 함수를 이용하여\n",
        "# 각 이미지에 대한 손실값을 구하고\n",
        "# tf.reduce_mean 함수를 이용해 미니배치의 편균 손실값을 구함.\n",
        "# tf.train.AdamOptimizer 함수를 사용하여 손실값을 최소화하는 최적화를 수행\n",
        "\n",
        "cost = tf.reduce_mean(tf.nn.softmax_cross_entropy_with_logits_v2(\n",
        "                                         logits=model, labels=Y))\n",
        "optimizer = tf.train.AdamOptimizer(0.001).minimize(cost)"
      ],
      "execution_count": 0,
      "outputs": []
    },
    {
      "cell_type": "code",
      "metadata": {
        "id": "1CJi-mN2d4LG",
        "colab_type": "code",
        "colab": {}
      },
      "source": [
        "# 앞에서 구성한 신경 모델을 초기화하고 학습을 진행할 세션을 시작\n",
        "\n",
        "init = tf.global_variables_initializer()\n",
        "sess = tf.Session()\n",
        "sess.run(init)"
      ],
      "execution_count": 0,
      "outputs": []
    },
    {
      "cell_type": "code",
      "metadata": {
        "id": "yWsozd1ieBnU",
        "colab_type": "code",
        "colab": {}
      },
      "source": [
        "# 실제 학습진행\n",
        "# 학습에 미니배치 사용(데이터가 수만 개로 매우크므로)\n",
        "# 미니배치 크기 100\n",
        "# 학습 데이터의 총 개수인 minist.train.num_examples를 배치 크기로 나눠\n",
        "# 미니배치가 총 몇 개인지를 저장해둡니다.\n",
        "batch_size = 100\n",
        "total_batch = int(mnist.train.num_examples / batch_size)"
      ],
      "execution_count": 0,
      "outputs": []
    },
    {
      "cell_type": "code",
      "metadata": {
        "id": "9OnUZGT2ef2m",
        "colab_type": "code",
        "outputId": "0bb21015-2f17-4e3d-d5fe-bdd44b08b4ae",
        "colab": {
          "base_uri": "https://localhost:8080/",
          "height": 289
        }
      },
      "source": [
        "# MNIST 데이터 전체를 학습하는 일을 총 15번 반보갑니다(학습 데이터 전체를 한 바퀴 도는 것)\n",
        "# 을 에포크(epoch)라고 합니다.\n",
        "\n",
        "# 반복문에서 미니배치의 총 개수만큼 반복하여 학습니다.\n",
        "for epoch in range(15):\n",
        "  total_cost = 0\n",
        "  \n",
        "  # mnist.train.next_batch(batch_size)함수를 이용해 학습할 데이터를\n",
        "  # 배치 크기만큼 가져온 뒤, 입력값인 이미지 데이터는 batch_xs에, \n",
        "  # 출력값인 레이블 데이터는 batch_ys에 저장합니다.\n",
        "  \n",
        "  for i in range(total_batch):\n",
        "    batch_xs, batch_ys = mnist.train.next_batch(batch_size)\n",
        "    \n",
        "    \n",
        "    # sess.run을 이용하여 최적화시키고 손실값을 가져와서 저장합니다.\n",
        "    _, cost_val = sess.run([optimizer,cost],\n",
        "\n",
        "    # feed_dict 매개변수에 입력값 X와 예측을 평가할 실제 레이블값 Y에 사용할 데이터를 넣어줌                       \n",
        "    feed_dict={X: batch_xs, Y: batch_ys})\n",
        "    \n",
        "    # 손실값 저장한 다음, 한 세대의 학습이 끝나면 학습한 세대의 평균 손실값을 출력\n",
        "    total_cost += cost_val\n",
        "    \n",
        "  print('Epoch:', '%04d' % (epoch + 1),\n",
        "       'Avg. cost = ', '{:.3f}'.format(total_cost / total_batch))\n",
        "  \n",
        "print('최적화 완료!')"
      ],
      "execution_count": 11,
      "outputs": [
        {
          "output_type": "stream",
          "text": [
            "Epoch: 0001 Avg. cost =  0.014\n",
            "Epoch: 0002 Avg. cost =  0.007\n",
            "Epoch: 0003 Avg. cost =  0.009\n",
            "Epoch: 0004 Avg. cost =  0.008\n",
            "Epoch: 0005 Avg. cost =  0.008\n",
            "Epoch: 0006 Avg. cost =  0.010\n",
            "Epoch: 0007 Avg. cost =  0.005\n",
            "Epoch: 0008 Avg. cost =  0.004\n",
            "Epoch: 0009 Avg. cost =  0.010\n",
            "Epoch: 0010 Avg. cost =  0.008\n",
            "Epoch: 0011 Avg. cost =  0.004\n",
            "Epoch: 0012 Avg. cost =  0.008\n",
            "Epoch: 0013 Avg. cost =  0.004\n",
            "Epoch: 0014 Avg. cost =  0.010\n",
            "Epoch: 0015 Avg. cost =  0.007\n",
            "최적화 완료!\n"
          ],
          "name": "stdout"
        }
      ]
    },
    {
      "cell_type": "code",
      "metadata": {
        "id": "qzJcmONZe9O2",
        "colab_type": "code",
        "colab": {
          "base_uri": "https://localhost:8080/",
          "height": 34
        },
        "outputId": "7046d710-bb81-4a46-8feb-6eb7494ec632"
      },
      "source": [
        "# 학습이 잘 되었는지 결과를 한번 출력\n",
        "# 예측결과인 model의 값과 실제 레이블인 Y의 값을 비교\n",
        "\n",
        "is_correct = tf.equal(tf.argmax(model, 1), tf.argmax(Y,1))\n",
        "\n",
        "print(is_correct)\n",
        "# 예측한 결괏값은 원-핫 인코딩 형식이며 각 인덱스에 해당하는 값은 다음처럼 해당 숫자가\n",
        "# 얼마나 해당 인덱스와 관련이 높은가를 나타냅니다.\n",
        "# 즉, 값이 가장 큰 인덱스(이 예에서는 7)가 가장 근접한 예측 결과라는 말이겠죠?\n",
        "# (단, 이것은 손실값을 softmax_cross_entropy_with_logits_v2를 이용해 구했기 때문\n",
        "# 초깃값이나 예측 모델, 손실값을 구하는 방식 등에 따라 결과가 달라질 수 있음."
      ],
      "execution_count": 19,
      "outputs": [
        {
          "output_type": "stream",
          "text": [
            "Tensor(\"Equal_3:0\", shape=(?,), dtype=bool)\n"
          ],
          "name": "stdout"
        }
      ]
    },
    {
      "cell_type": "code",
      "metadata": {
        "id": "hHK2pEhCI0_5",
        "colab_type": "code",
        "colab": {}
      },
      "source": [
        "# tf.cast를 이용해 is_correct를 0과 1로 변환. \n",
        "# 변환한 값들을 tf.reduce_mean을 이용해 평균을 내면 그것이 바로 정확도(확률)\n",
        "accuracy = tf.reduce_mean(tf.cast(is_correct, tf.float32))"
      ],
      "execution_count": 0,
      "outputs": []
    },
    {
      "cell_type": "code",
      "metadata": {
        "id": "h8XorQGhJzZk",
        "colab_type": "code",
        "colab": {
          "base_uri": "https://localhost:8080/",
          "height": 34
        },
        "outputId": "1ef25be4-4952-4917-97aa-0b1d2307cd5f"
      },
      "source": [
        "# 테스트 데이터를 다루는 객체인 mnist.test를 이용해 테스트 이미지와 레이블 데이터를 넣어\n",
        "# accuracy를 계산\n",
        "\n",
        "print('정확도:', sess.run(accuracy, \n",
        "                      feed_dict={X: mnist.test.images,\n",
        "                                Y: mnist.test.labels}))"
      ],
      "execution_count": 16,
      "outputs": [
        {
          "output_type": "stream",
          "text": [
            "정확도: 0.9808\n"
          ],
          "name": "stdout"
        }
      ]
    },
    {
      "cell_type": "markdown",
      "metadata": {
        "id": "3vWYSG7kMtlh",
        "colab_type": "text"
      },
      "source": [
        "# 드롭아웃 기능을 사용"
      ]
    },
    {
      "cell_type": "code",
      "metadata": {
        "id": "36PTRBkgKLYZ",
        "colab_type": "code",
        "colab": {}
      },
      "source": [
        "# 드롭아웃: 학습 시 전체 신경망 중 일부만을 사용하도록 하는 것\n",
        "# 즉, 학습 단계마다 일부 뉴런을 제거(사용하지 않도록)함으로써,\n",
        "# 일부 특징이 특정 뉴런들에 고정되는 것을 막아 가중치의 균형을 잡도록 하여 과적합을 방지합니다."
      ],
      "execution_count": 0,
      "outputs": []
    },
    {
      "cell_type": "code",
      "metadata": {
        "id": "IjmikkIHNEEH",
        "colab_type": "code",
        "colab": {
          "base_uri": "https://localhost:8080/",
          "height": 629
        },
        "outputId": "7d707826-4227-42cf-fe99-b0fd64dfbc4d"
      },
      "source": [
        "import tensorflow as tf\n",
        "\n",
        "from tensorflow.examples.tutorials.mnist import input_data\n",
        "mnist = input_data.read_data_sets(\"./mnist/data/\",one_hot=True)\n",
        "\n",
        "# MNIST의 손글씨 이미지는 28 x 28픽셀\n",
        "# 784개의 특징으로 이루어져 있음.\n",
        "# 레이블은 0부터 9까지 이니 10개의 분류로 나눔\n",
        "# None으로 넣어주면 한 번에 학습할 개수를 계속 바꿔가면서 실험해볼려는 경우 \n",
        "\n",
        "X = tf.placeholder(tf.float32, [None, 784])\n",
        "Y = tf.placeholder(tf.float32, [None, 10])\n",
        "keep_prob = tf.placeholder(tf.float32)\n",
        "\n",
        "\n",
        "# 784(입력, 특징 개수) -> 256 (첫 번째 은닉층 뉴런 개수) -> 256 (두 번째 은닉층 뉴런 개수)\n",
        "# -> 10 (결괏값 0-9 분류 개수)\n",
        "\n",
        "# tf.matmul 함수를 이용하여 각 계층으로 들어오는 입력값에 각각의 가중치를 곱하고\n",
        "# tf.nn.relu 함수를 이용하여 활성화 함수로 ReLU를 사용하는 신경망 계층을 만듭니다.\n",
        "W1 = tf.Variable(tf.random_normal([784, 256], stddev=0.01))\n",
        "L1 = tf.nn.relu(tf.matmul(X, W1))\n",
        "L1 = tf.nn.dropout(L1, keep_prob)\n",
        "\n",
        "\n",
        "W2 = tf.Variable(tf.random_normal([256, 256], stddev=0.01))\n",
        "L2 = tf.nn.relu(tf.matmul(L1, W2))\n",
        "L2 = tf.nn.dropout(L2, keep_prob)\n",
        "\n",
        "# 표준 편차가 0.01인 정규분포를 가지는 임의의 값으로 뉴런(변수)을 초기화시킵니다.\n",
        "W3 = tf.Variable(tf.random_normal([256, 10], stddev=0.01))\n",
        "\n",
        "# 마지막 계층인 model 텐서에 W3 변수를 곱함으로써 요소 10개짜리 배열이 출력됩니다.\n",
        "# 10개의 요소는 0부터 9까지의 숫자를 나타내며, 가장 큰 값을 가진 인덱스가 예측 결과에\n",
        "# 가까운 숫자입니다.\n",
        "# 출력층에는 보통 활성화 함수를 사용하지 않습니다.\n",
        "\n",
        "model = tf.matmul(L2, W3)\n",
        "\n",
        "\n",
        "# tf.nn.softmax_cross_entroypy_with_logits_v2 함수를 이용하여\n",
        "# 각 이미지에 대한 손실값을 구하고\n",
        "# tf.reduce_mean 함수를 이용해 미니배치의 편균 손실값을 구함.\n",
        "# tf.train.AdamOptimizer 함수를 사용하여 손실값을 최소화하는 최적화를 수행\n",
        "\n",
        "cost = tf.reduce_mean(tf.nn.softmax_cross_entropy_with_logits_v2(\n",
        "                                         logits=model, labels=Y))\n",
        "optimizer = tf.train.AdamOptimizer(0.001).minimize(cost)\n",
        "\n",
        "# 앞에서 구성한 신경 모델을 초기화하고 학습을 진행할 세션을 시작\n",
        "\n",
        "init = tf.global_variables_initializer()\n",
        "sess = tf.Session()\n",
        "sess.run(init)\n",
        "\n",
        "# 실제 학습진행\n",
        "# 학습에 미니배치 사용(데이터가 수만 개로 매우크므로)\n",
        "# 미니배치 크기 100\n",
        "# 학습 데이터의 총 개수인 minist.train.num_examples를 배치 크기로 나눠\n",
        "# 미니배치가 총 몇 개인지를 저장해둡니다.\n",
        "batch_size = 100\n",
        "total_batch = int(mnist.train.num_examples / batch_size)\n",
        "\n",
        "# MNIST 데이터 전체를 학습하는 일을 총 15번 반보갑니다(학습 데이터 전체를 한 바퀴 도는 것)\n",
        "# 을 에포크(epoch)라고 합니다.\n",
        "\n",
        "# 반복문에서 미니배치의 총 개수만큼 반복하여 학습니다.\n",
        "for epoch in range(30):\n",
        "  total_cost = 0\n",
        "  \n",
        "  # mnist.train.next_batch(batch_size)함수를 이용해 학습할 데이터를\n",
        "  # 배치 크기만큼 가져온 뒤, 입력값인 이미지 데이터는 batch_xs에, \n",
        "  # 출력값인 레이블 데이터는 batch_ys에 저장합니다.\n",
        "  \n",
        "  for i in range(total_batch):\n",
        "    batch_xs, batch_ys = mnist.train.next_batch(batch_size)\n",
        "    \n",
        "    \n",
        "    # sess.run을 이용하여 최적화시키고 손실값을 가져와서 저장합니다.\n",
        "    _, cost_val = sess.run([optimizer,cost],\n",
        "\n",
        "    # feed_dict 매개변수에 입력값 X와 예측을 평가할 실제 레이블값 Y에 사용할 데이터를 넣어줌                       \n",
        "      feed_dict={X: batch_xs, Y: batch_ys, keep_prob: 0.8})\n",
        "    \n",
        "    # 손실값 저장한 다음, 한 세대의 학습이 끝나면 학습한 세대의 평균 손실값을 출력\n",
        "    total_cost += cost_val\n",
        "    \n",
        "  print('Epoch:', '%04d' % (epoch + 1),\n",
        "       'Avg. cost = ', '{:.3f}'.format(total_cost / total_batch))\n",
        "  \n",
        "print('최적화 완료!')\n",
        "is_correct = tf.equal(tf.argmax(model, 1), tf.argmax(Y,1))\n",
        "\n",
        "# tf.cast를 이용해 is_correct를 0과 1로 변환. \n",
        "# 변환한 값들을 tf.reduce_mean을 이용해 평균을 내면 그것이 바로 정확도(확률)\n",
        "accuracy = tf.reduce_mean(tf.cast(is_correct, tf.float32))\n",
        "\n",
        "# 테스트 데이터를 다루는 객체인 mnist.test를 이용해 테스트 이미지와 레이블 데이터를 넣어\n",
        "# accuracy를 계산\n",
        "\n",
        "print('정확도:', sess.run(accuracy, \n",
        "                      feed_dict={X: mnist.test.images,\n",
        "                                Y: mnist.test.labels,\n",
        "                                keep_prob: 1}))\n",
        "\n"
      ],
      "execution_count": 56,
      "outputs": [
        {
          "output_type": "stream",
          "text": [
            "Extracting ./mnist/data/train-images-idx3-ubyte.gz\n",
            "Extracting ./mnist/data/train-labels-idx1-ubyte.gz\n",
            "Extracting ./mnist/data/t10k-images-idx3-ubyte.gz\n",
            "Extracting ./mnist/data/t10k-labels-idx1-ubyte.gz\n",
            "Epoch: 0001 Avg. cost =  0.431\n",
            "Epoch: 0002 Avg. cost =  0.166\n",
            "Epoch: 0003 Avg. cost =  0.113\n",
            "Epoch: 0004 Avg. cost =  0.087\n",
            "Epoch: 0005 Avg. cost =  0.074\n",
            "Epoch: 0006 Avg. cost =  0.059\n",
            "Epoch: 0007 Avg. cost =  0.054\n",
            "Epoch: 0008 Avg. cost =  0.045\n",
            "Epoch: 0009 Avg. cost =  0.041\n",
            "Epoch: 0010 Avg. cost =  0.037\n",
            "Epoch: 0011 Avg. cost =  0.034\n",
            "Epoch: 0012 Avg. cost =  0.029\n",
            "Epoch: 0013 Avg. cost =  0.028\n",
            "Epoch: 0014 Avg. cost =  0.029\n",
            "Epoch: 0015 Avg. cost =  0.024\n",
            "Epoch: 0016 Avg. cost =  0.024\n",
            "Epoch: 0017 Avg. cost =  0.024\n",
            "Epoch: 0018 Avg. cost =  0.021\n",
            "Epoch: 0019 Avg. cost =  0.021\n",
            "Epoch: 0020 Avg. cost =  0.021\n",
            "Epoch: 0021 Avg. cost =  0.018\n",
            "Epoch: 0022 Avg. cost =  0.020\n",
            "Epoch: 0023 Avg. cost =  0.018\n",
            "Epoch: 0024 Avg. cost =  0.018\n",
            "Epoch: 0025 Avg. cost =  0.015\n",
            "Epoch: 0026 Avg. cost =  0.019\n",
            "Epoch: 0027 Avg. cost =  0.015\n",
            "Epoch: 0028 Avg. cost =  0.016\n",
            "Epoch: 0029 Avg. cost =  0.016\n",
            "Epoch: 0030 Avg. cost =  0.014\n",
            "최적화 완료!\n",
            "정확도: 0.9833\n"
          ],
          "name": "stdout"
        }
      ]
    },
    {
      "cell_type": "markdown",
      "metadata": {
        "id": "kjxdH235O6es",
        "colab_type": "text"
      },
      "source": [
        "# 6-3 matplotlib"
      ]
    },
    {
      "cell_type": "code",
      "metadata": {
        "id": "pzorcC5fO-Uw",
        "colab_type": "code",
        "colab": {}
      },
      "source": [
        "# matplotlib의 pyplot 모듈을 임포트\n",
        "\n",
        "import matplotlib.pyplot as plt\n",
        "# %matplotlib inline\n",
        "import numpy as np"
      ],
      "execution_count": 0,
      "outputs": []
    },
    {
      "cell_type": "code",
      "metadata": {
        "id": "sclPHz14ShaV",
        "colab_type": "code",
        "colab": {
          "base_uri": "https://localhost:8080/",
          "height": 227
        },
        "outputId": "ed85ef41-aa14-4f7e-bdc3-9fa3c7353a3d"
      },
      "source": [
        "# 테스트 데이터를 이용해 예측 모델을 실행하고 결괏값을 labels에 저장합니다.\n",
        "labels = sess.run(model,\n",
        "                  feed_dict={X: mnist.test.images,\n",
        "                             Y: mnist.test.labels,\n",
        "                             keep_prob: 1})\n",
        "# 손 글씨를 출력할 그래프를 준비\n",
        "fig = plt.figure()\n",
        "\n",
        "# 테스트 데이터의 첫 번쨰부터 열 번쨰까지의 이미지와 예측한 값을 출력합니다.\n",
        "for i in range(10):\n",
        "    # 2행 5열의 그래프를 만들고, i + 1번쨰에 숫자 이미지를 출력합니다.\n",
        "    subplot = fig.add_subplot(2, 5, i + 1)\n",
        "    \n",
        "    # 이미지를 깨끗하게 출력하기 위해 x와 y의 눈금을 출력하지 않습니다.\n",
        "    subplot.set_xticks([])\n",
        "    subplot.set_yticks([])\n",
        "\n",
        "    # 출력한 이미지 위에 예측한 숫자를 출력합니다.\n",
        "    # np.argmax는 tf.argmax와 같은 가닝의 함수입니다.\n",
        "    # 결괏값인 labels의 i번째 요소가 원-핫 인코딩 형식으로 되어 있으므로,\n",
        "    # 해당 배열에서 가장 높은 값을 가진 인덱스를 예측한 숫자로 출력합니다.\n",
        "    subplot.set_title('%d' % np.argmax(labels[i]))\n",
        "    \n",
        "    # 1차원 배열로 되어 있는 1번쨰 이미지 데이터를 \n",
        "    # 28 x 28 형식의 2차원 배열로 변형하여 이미지 형태로 출력합니다.\n",
        "    # cmap 파라미터를 통해 이미지를 그레이스케일로 출력합니다.\n",
        "    subplot.imshow(mnist.test.images[i].reshape((28, 28)),\n",
        "                   cmap=plt.cm.gray_r)\n",
        "\n",
        "# 그래프를 화면에 표시\n",
        "plt.show()"
      ],
      "execution_count": 58,
      "outputs": [
        {
          "output_type": "display_data",
          "data": {
            "image/png": "[encoded data removed]",
            "text/plain": [
              "<Figure size 432x288 with 10 Axes>"
            ]
          },
          "metadata": {
            "tags": []
          }
        }
      ]
    },
    {
      "cell_type": "code",
      "metadata": {
        "id": "k2FZcScpTjs3",
        "colab_type": "code",
        "colab": {}
      },
      "source": [
        ""
      ],
      "execution_count": 0,
      "outputs": []
    }
  ]
}